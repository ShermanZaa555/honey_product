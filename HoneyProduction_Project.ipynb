{
  "nbformat": 4,
  "nbformat_minor": 0,
  "metadata": {
    "colab": {
      "name": "HoneyProduction_Project.ipynb",
      "provenance": [],
      "collapsed_sections": []
    },
    "kernelspec": {
      "name": "python3",
      "display_name": "Python 3"
    }
  },
  "cells": [
    {
      "cell_type": "markdown",
      "source": [
        "# ผลผลิตน้ำผึ้งในประเทศสหรัฐอเมริกา ระหว่างปี 1998-2012\n"
      ],
      "metadata": {
        "id": "qeO-MjJpnvtG"
      }
    },
    {
      "cell_type": "markdown",
      "metadata": {
        "id": "-N5uk3_cY-n3"
      },
      "source": [
        "**จัดทำโดย**\n",
        "* นายณัทธร เชิงเชาว์ เลขทะเบียน 6209610416\n",
        "* นายสิรวิชญ์ คล้ายรัศมี เลขทะเบียน 6209680831"
      ]
    },
    {
      "cell_type": "code",
      "metadata": {
        "id": "Z2gzLR-zBztv"
      },
      "source": [
        "import matplotlib as mpl \n",
        "import matplotlib.pyplot as plt\n",
        "import numpy as np\n",
        "import pandas as pd\n",
        "import seaborn as sns\n",
        "\n",
        "%matplotlib inline"
      ],
      "execution_count": null,
      "outputs": []
    },
    {
      "cell_type": "markdown",
      "source": [
        "# บทนำ"
      ],
      "metadata": {
        "id": "CmKk8D25n6h_"
      }
    },
    {
      "cell_type": "markdown",
      "source": [
        "  ในปี 2006 ทั่วโลกเกิดความกังวลเกี่ยวกับการลดลงของประชากรผึ้งและรังผึ้งจำนวนมากสูญหายไป โดยจะเรียกปรากฏการณ์นี้ว่า Colony Collapse Disorder (CCP) ซึ่งเป็นปรากฏการณ์ของผึ้งงานที่หายไป โดยเฉพาะในอเมริกาเหนือ รวมถึงในยุโรปหลายประเทศ เช่น เบลเยียม, ฝรั่งเศส,เนเธอร์แลนด์, กรีซ, อิตาลี, โปรตุเกส, สเปน แต่ที่มีสถิติหายไปมากที่สุดก็คือผึ้งจากไอร์แลนด์เหนือ ก่อนหน้าปี 2006-2007 จะมีผึ้งหายเป็นประจำอยู่แล้ว แต่หายไปในอัตราราว 17-20% เท่านั้น ไม่เหมือนที่เกิดขึ้นครั้งแรกในปี 2006 คือหายไประหว่าง 30-90% สิบสองปีต่อมาบางอุตสาหกรรมกำลังสังเกตการฟื้นตัว แต่อุตสาหกรรมน้ำผึ้งของสหรัฐอเมริกายังคงดิ้นรนอย่างหนัก สหรัฐอเมริกาเคยผลิตน้ำผึ้งในประเทศมากกว่าครึ่งหนึ่งที่บริโภคต่อปี ตอนนี้น้ำผึ้งส่วนใหญ่มาจากต่างประเทศโดยน้ำผึ้ง 350 - 400 ล้านปอนด์ที่บริโภคทุกปีมาจากการนำเข้า ชุดข้อมูลนี้ให้ข้อมูลเชิงลึกเกี่ยวกับอุปสงค์และอุปทานการผลิตน้ำผึ้งในอเมริกาแยกตามรัฐตั้งแต่ปี 1998 ถึง 2012"
      ],
      "metadata": {
        "id": "eap065LZn83G"
      }
    },
    {
      "cell_type": "markdown",
      "source": [
        "**วัตถุประสงค์ของการจัดสร้างโครงงาน**\n",
        "\n",
        "1.   เพื่อศึกษาและดำเนินการสร้าง ผลผลิตน้ำผึ้งในประเทศสหรัฐอเมริกา ระหว่างปี 1998-2012\n",
        "2.   เพื่อทราบอัตราเพิ่มขึ้นของราคาน้ำผึ้ง\n",
        "3.   เพื่อทราบปีที่ผลิตน้ำผึ้งได้มากที่สุด\n"
      ],
      "metadata": {
        "id": "Brjo1nTpoCQt"
      }
    },
    {
      "cell_type": "markdown",
      "source": [
        "**ประโยชน์ที่คาดว่าจะได้รับ**\n",
        "1.   สามารถนำความรู้เรื่อง Matplotlib, Seaborn และ ความรู้ด้าน Data Science\n",
        "2.   สามารถนำเสนอผลผลิตน้ำผึ้งในประเทศสหรัฐอเมริกามาเป็นกราฟได้\n",
        "3.   สามารถนำกราฟที่ implement code แล้ว นำมาสรุปผลได้"
      ],
      "metadata": {
        "id": "bMGRgE6eoSDu"
      }
    },
    {
      "cell_type": "markdown",
      "metadata": {
        "id": "A9SCjWKOc71A"
      },
      "source": [
        "# Dataset"
      ]
    },
    {
      "cell_type": "markdown",
      "source": [
        "ชุดข้อมูลนี้เป็นรายงานข้อมูลผลผลิตของน้ำผึ้งในประเทศสหรัฐอเมริกา โดย National Agricultural Statistics Service (NASS) ที่รายงานข้อมูลลำดับแรก ของ กรมการเกษตรกรรม ของสหรัฐฯ เพื่อที่จะจัดหาข้อมูล, ข้อมูลถูกต้องแม่นยำ และข้อมูลมีประโยชน์ ในการช่วยเหลือด้านเกษตรกรรมในประเทศ"
      ],
      "metadata": {
        "id": "7y1PltRiof4v"
      }
    },
    {
      "cell_type": "markdown",
      "source": [
        "**ความหมายฟิลด์ข้อมูล**\n",
        "*   numcol คือ จำนวนกลุ่มการผลิตน้ำผึ้ง\n",
        "*   yieldpercol คือ ปริมาณน้ำผึ้งต่อกลุ่ม (หน่วยเป็นปอนด์)\n",
        "*   totalprod คือ ผลผลิตรวม (numcol * yieldpercol) (หน่วยเป็นปอนด์)\n",
        "*   stocks คือ จำนวนน้ำผึ้งที่เก็บโดยผู้ผลิต (หน่วยเป็นปอนด์)\n",
        "*   Priceperlb คือ ค่าเฉลี่ยราคาต่อปอนด์ ขึ้นอยู่กับการขายที่เพิ่มขึ้น (หน่วยเป็นดอลลาร์)\n",
        "*   prodvalue  คือ ราคาน้ำผึ้ง (totalprod * priceperlb) (หน่วยเป็นดอลลาร์)"
      ],
      "metadata": {
        "id": "l9u6BDlzojGP"
      }
    },
    {
      "cell_type": "markdown",
      "source": [
        "**Link ของ Dataset**"
      ],
      "metadata": {
        "id": "mCUSetSOp2VT"
      }
    },
    {
      "cell_type": "markdown",
      "source": [
        "https://www.kaggle.com/jessicali9530/honey-production"
      ],
      "metadata": {
        "id": "9GR2FNA8p3k-"
      }
    },
    {
      "cell_type": "code",
      "metadata": {
        "id": "QwIW_mYaCWLm",
        "colab": {
          "base_uri": "https://localhost:8080/",
          "height": 419
        },
        "outputId": "28add050-1178-4cbf-bdbb-f8a9b19f71c7"
      },
      "source": [
        "honeyProduction = pd.read_csv(\"/content/drive/MyDrive/dataset/honeyproduction.csv\")\n",
        "honeyProduction"
      ],
      "execution_count": null,
      "outputs": [
        {
          "output_type": "execute_result",
          "data": {
            "text/html": [
              "<div>\n",
              "<style scoped>\n",
              "    .dataframe tbody tr th:only-of-type {\n",
              "        vertical-align: middle;\n",
              "    }\n",
              "\n",
              "    .dataframe tbody tr th {\n",
              "        vertical-align: top;\n",
              "    }\n",
              "\n",
              "    .dataframe thead th {\n",
              "        text-align: right;\n",
              "    }\n",
              "</style>\n",
              "<table border=\"1\" class=\"dataframe\">\n",
              "  <thead>\n",
              "    <tr style=\"text-align: right;\">\n",
              "      <th></th>\n",
              "      <th>state</th>\n",
              "      <th>numcol</th>\n",
              "      <th>yieldpercol</th>\n",
              "      <th>totalprod</th>\n",
              "      <th>stocks</th>\n",
              "      <th>priceperlb</th>\n",
              "      <th>prodvalue</th>\n",
              "      <th>year</th>\n",
              "    </tr>\n",
              "  </thead>\n",
              "  <tbody>\n",
              "    <tr>\n",
              "      <th>0</th>\n",
              "      <td>AL</td>\n",
              "      <td>16000.0</td>\n",
              "      <td>71</td>\n",
              "      <td>1136000.0</td>\n",
              "      <td>159000.0</td>\n",
              "      <td>0.72</td>\n",
              "      <td>818000.0</td>\n",
              "      <td>1998</td>\n",
              "    </tr>\n",
              "    <tr>\n",
              "      <th>1</th>\n",
              "      <td>AZ</td>\n",
              "      <td>55000.0</td>\n",
              "      <td>60</td>\n",
              "      <td>3300000.0</td>\n",
              "      <td>1485000.0</td>\n",
              "      <td>0.64</td>\n",
              "      <td>2112000.0</td>\n",
              "      <td>1998</td>\n",
              "    </tr>\n",
              "    <tr>\n",
              "      <th>2</th>\n",
              "      <td>AR</td>\n",
              "      <td>53000.0</td>\n",
              "      <td>65</td>\n",
              "      <td>3445000.0</td>\n",
              "      <td>1688000.0</td>\n",
              "      <td>0.59</td>\n",
              "      <td>2033000.0</td>\n",
              "      <td>1998</td>\n",
              "    </tr>\n",
              "    <tr>\n",
              "      <th>3</th>\n",
              "      <td>CA</td>\n",
              "      <td>450000.0</td>\n",
              "      <td>83</td>\n",
              "      <td>37350000.0</td>\n",
              "      <td>12326000.0</td>\n",
              "      <td>0.62</td>\n",
              "      <td>23157000.0</td>\n",
              "      <td>1998</td>\n",
              "    </tr>\n",
              "    <tr>\n",
              "      <th>4</th>\n",
              "      <td>CO</td>\n",
              "      <td>27000.0</td>\n",
              "      <td>72</td>\n",
              "      <td>1944000.0</td>\n",
              "      <td>1594000.0</td>\n",
              "      <td>0.70</td>\n",
              "      <td>1361000.0</td>\n",
              "      <td>1998</td>\n",
              "    </tr>\n",
              "    <tr>\n",
              "      <th>...</th>\n",
              "      <td>...</td>\n",
              "      <td>...</td>\n",
              "      <td>...</td>\n",
              "      <td>...</td>\n",
              "      <td>...</td>\n",
              "      <td>...</td>\n",
              "      <td>...</td>\n",
              "      <td>...</td>\n",
              "    </tr>\n",
              "    <tr>\n",
              "      <th>621</th>\n",
              "      <td>VA</td>\n",
              "      <td>4000.0</td>\n",
              "      <td>41</td>\n",
              "      <td>164000.0</td>\n",
              "      <td>23000.0</td>\n",
              "      <td>3.77</td>\n",
              "      <td>618000.0</td>\n",
              "      <td>2012</td>\n",
              "    </tr>\n",
              "    <tr>\n",
              "      <th>622</th>\n",
              "      <td>WA</td>\n",
              "      <td>62000.0</td>\n",
              "      <td>41</td>\n",
              "      <td>2542000.0</td>\n",
              "      <td>1017000.0</td>\n",
              "      <td>2.38</td>\n",
              "      <td>6050000.0</td>\n",
              "      <td>2012</td>\n",
              "    </tr>\n",
              "    <tr>\n",
              "      <th>623</th>\n",
              "      <td>WV</td>\n",
              "      <td>6000.0</td>\n",
              "      <td>48</td>\n",
              "      <td>288000.0</td>\n",
              "      <td>95000.0</td>\n",
              "      <td>2.91</td>\n",
              "      <td>838000.0</td>\n",
              "      <td>2012</td>\n",
              "    </tr>\n",
              "    <tr>\n",
              "      <th>624</th>\n",
              "      <td>WI</td>\n",
              "      <td>60000.0</td>\n",
              "      <td>69</td>\n",
              "      <td>4140000.0</td>\n",
              "      <td>1863000.0</td>\n",
              "      <td>2.05</td>\n",
              "      <td>8487000.0</td>\n",
              "      <td>2012</td>\n",
              "    </tr>\n",
              "    <tr>\n",
              "      <th>625</th>\n",
              "      <td>WY</td>\n",
              "      <td>50000.0</td>\n",
              "      <td>51</td>\n",
              "      <td>2550000.0</td>\n",
              "      <td>459000.0</td>\n",
              "      <td>1.87</td>\n",
              "      <td>4769000.0</td>\n",
              "      <td>2012</td>\n",
              "    </tr>\n",
              "  </tbody>\n",
              "</table>\n",
              "<p>626 rows × 8 columns</p>\n",
              "</div>"
            ],
            "text/plain": [
              "    state    numcol  yieldpercol  ...  priceperlb   prodvalue  year\n",
              "0      AL   16000.0           71  ...        0.72    818000.0  1998\n",
              "1      AZ   55000.0           60  ...        0.64   2112000.0  1998\n",
              "2      AR   53000.0           65  ...        0.59   2033000.0  1998\n",
              "3      CA  450000.0           83  ...        0.62  23157000.0  1998\n",
              "4      CO   27000.0           72  ...        0.70   1361000.0  1998\n",
              "..    ...       ...          ...  ...         ...         ...   ...\n",
              "621    VA    4000.0           41  ...        3.77    618000.0  2012\n",
              "622    WA   62000.0           41  ...        2.38   6050000.0  2012\n",
              "623    WV    6000.0           48  ...        2.91    838000.0  2012\n",
              "624    WI   60000.0           69  ...        2.05   8487000.0  2012\n",
              "625    WY   50000.0           51  ...        1.87   4769000.0  2012\n",
              "\n",
              "[626 rows x 8 columns]"
            ]
          },
          "metadata": {
            "tags": []
          },
          "execution_count": 94
        }
      ]
    },
    {
      "cell_type": "markdown",
      "metadata": {
        "id": "XaNylsljwLFS"
      },
      "source": [
        "# Data Cleaning"
      ]
    },
    {
      "cell_type": "markdown",
      "metadata": {
        "id": "CQR9opU1B0mp"
      },
      "source": [
        "ในส่วนของการทำความสะอาดข้อมูล ขั้นตอนแรกตรวจสอบว่า ข้อมูลใน dataset มี missing Data หรือไม่"
      ]
    },
    {
      "cell_type": "code",
      "metadata": {
        "colab": {
          "base_uri": "https://localhost:8080/"
        },
        "id": "TJ2JpomfBvhI",
        "outputId": "b2f0c292-3782-4311-8558-614db240320b"
      },
      "source": [
        "honeyProduction.isnull().sum()"
      ],
      "execution_count": null,
      "outputs": [
        {
          "output_type": "execute_result",
          "data": {
            "text/plain": [
              "state          0\n",
              "numcol         0\n",
              "yieldpercol    0\n",
              "totalprod      0\n",
              "stocks         0\n",
              "priceperlb     0\n",
              "prodvalue      0\n",
              "year           0\n",
              "dtype: int64"
            ]
          },
          "metadata": {
            "tags": []
          },
          "execution_count": 95
        }
      ]
    },
    {
      "cell_type": "markdown",
      "metadata": {
        "id": "s0_mwzujqTuo"
      },
      "source": [
        "ขั้นตอนที่สอง จะเป็นการตรวจสอบประเภทของข้อมูล"
      ]
    },
    {
      "cell_type": "code",
      "metadata": {
        "colab": {
          "base_uri": "https://localhost:8080/"
        },
        "id": "5Mq0xM76q112",
        "outputId": "a98df8d1-e9b5-4517-c3cf-5e3d99f55aca"
      },
      "source": [
        "honeyProduction.dtypes"
      ],
      "execution_count": null,
      "outputs": [
        {
          "output_type": "execute_result",
          "data": {
            "text/plain": [
              "state           object\n",
              "numcol         float64\n",
              "yieldpercol      int64\n",
              "totalprod      float64\n",
              "stocks         float64\n",
              "priceperlb     float64\n",
              "prodvalue      float64\n",
              "year             int64\n",
              "dtype: object"
            ]
          },
          "metadata": {
            "tags": []
          },
          "execution_count": 96
        }
      ]
    },
    {
      "cell_type": "markdown",
      "metadata": {
        "id": "S1IBHWgnrk9v"
      },
      "source": [
        "ขั้นตอนถัดไป ตรวจสอบว่าข้อมูลในทุกคอลัมน์ซ้ำกันหรือไม่"
      ]
    },
    {
      "cell_type": "code",
      "metadata": {
        "colab": {
          "base_uri": "https://localhost:8080/"
        },
        "id": "w732NFemsjxK",
        "outputId": "2f1f28e5-8171-4550-b569-c6f5aa747e7e"
      },
      "source": [
        "honeyProduction.duplicated()"
      ],
      "execution_count": null,
      "outputs": [
        {
          "output_type": "execute_result",
          "data": {
            "text/plain": [
              "0      False\n",
              "1      False\n",
              "2      False\n",
              "3      False\n",
              "4      False\n",
              "       ...  \n",
              "621    False\n",
              "622    False\n",
              "623    False\n",
              "624    False\n",
              "625    False\n",
              "Length: 626, dtype: bool"
            ]
          },
          "metadata": {
            "tags": []
          },
          "execution_count": 97
        }
      ]
    },
    {
      "cell_type": "markdown",
      "metadata": {
        "id": "eE-TyJuWvIIE"
      },
      "source": [
        "จากการตรวจสอบวามสะอาดของ dataset พบว่า dataset นี้ไม่พบ missing data, ชนิดในแต่ละคอลัมน์ถูกต้องทุกคอลันม์และไม่พบข้อมูลซ้ำกัน ฉะนั้นจึงไม่มีความจำเป็นที่จะทำความสะอาดข้อมูลใน dataset นี้"
      ]
    },
    {
      "cell_type": "markdown",
      "metadata": {
        "id": "HlEmAufve6ie"
      },
      "source": [
        "จากdatasetนี้ ก็พบว่า มีสมาชิกบางตัวในคอลัมน์นี้มีค่ามากกว่า 1 ล้าน ทำให้ยากแก่การนำเสนอกราฟและกำหนดตำแหน่งแกน x และ y ดัง description นี้"
      ]
    },
    {
      "cell_type": "code",
      "metadata": {
        "colab": {
          "base_uri": "https://localhost:8080/",
          "height": 297
        },
        "id": "zdGGOE-Rv2t8",
        "outputId": "c580788b-f8e9-4920-ad58-258dc7e55051"
      },
      "source": [
        "newDataset = honeyProduction.drop('year',axis=1)\n",
        "newDataset.describe()"
      ],
      "execution_count": null,
      "outputs": [
        {
          "output_type": "execute_result",
          "data": {
            "text/html": [
              "<div>\n",
              "<style scoped>\n",
              "    .dataframe tbody tr th:only-of-type {\n",
              "        vertical-align: middle;\n",
              "    }\n",
              "\n",
              "    .dataframe tbody tr th {\n",
              "        vertical-align: top;\n",
              "    }\n",
              "\n",
              "    .dataframe thead th {\n",
              "        text-align: right;\n",
              "    }\n",
              "</style>\n",
              "<table border=\"1\" class=\"dataframe\">\n",
              "  <thead>\n",
              "    <tr style=\"text-align: right;\">\n",
              "      <th></th>\n",
              "      <th>numcol</th>\n",
              "      <th>yieldpercol</th>\n",
              "      <th>totalprod</th>\n",
              "      <th>stocks</th>\n",
              "      <th>priceperlb</th>\n",
              "      <th>prodvalue</th>\n",
              "    </tr>\n",
              "  </thead>\n",
              "  <tbody>\n",
              "    <tr>\n",
              "      <th>count</th>\n",
              "      <td>626.000000</td>\n",
              "      <td>626.000000</td>\n",
              "      <td>6.260000e+02</td>\n",
              "      <td>6.260000e+02</td>\n",
              "      <td>626.000000</td>\n",
              "      <td>6.260000e+02</td>\n",
              "    </tr>\n",
              "    <tr>\n",
              "      <th>mean</th>\n",
              "      <td>60284.345048</td>\n",
              "      <td>62.009585</td>\n",
              "      <td>4.169086e+06</td>\n",
              "      <td>1.318859e+06</td>\n",
              "      <td>1.409569</td>\n",
              "      <td>4.715741e+06</td>\n",
              "    </tr>\n",
              "    <tr>\n",
              "      <th>std</th>\n",
              "      <td>91077.087231</td>\n",
              "      <td>19.458754</td>\n",
              "      <td>6.883847e+06</td>\n",
              "      <td>2.272964e+06</td>\n",
              "      <td>0.638599</td>\n",
              "      <td>7.976110e+06</td>\n",
              "    </tr>\n",
              "    <tr>\n",
              "      <th>min</th>\n",
              "      <td>2000.000000</td>\n",
              "      <td>19.000000</td>\n",
              "      <td>8.400000e+04</td>\n",
              "      <td>8.000000e+03</td>\n",
              "      <td>0.490000</td>\n",
              "      <td>1.620000e+05</td>\n",
              "    </tr>\n",
              "    <tr>\n",
              "      <th>25%</th>\n",
              "      <td>9000.000000</td>\n",
              "      <td>48.000000</td>\n",
              "      <td>4.750000e+05</td>\n",
              "      <td>1.430000e+05</td>\n",
              "      <td>0.932500</td>\n",
              "      <td>7.592500e+05</td>\n",
              "    </tr>\n",
              "    <tr>\n",
              "      <th>50%</th>\n",
              "      <td>26000.000000</td>\n",
              "      <td>60.000000</td>\n",
              "      <td>1.533000e+06</td>\n",
              "      <td>4.395000e+05</td>\n",
              "      <td>1.360000</td>\n",
              "      <td>1.841500e+06</td>\n",
              "    </tr>\n",
              "    <tr>\n",
              "      <th>75%</th>\n",
              "      <td>63750.000000</td>\n",
              "      <td>74.000000</td>\n",
              "      <td>4.175250e+06</td>\n",
              "      <td>1.489500e+06</td>\n",
              "      <td>1.680000</td>\n",
              "      <td>4.703250e+06</td>\n",
              "    </tr>\n",
              "    <tr>\n",
              "      <th>max</th>\n",
              "      <td>510000.000000</td>\n",
              "      <td>136.000000</td>\n",
              "      <td>4.641000e+07</td>\n",
              "      <td>1.380000e+07</td>\n",
              "      <td>4.150000</td>\n",
              "      <td>6.961500e+07</td>\n",
              "    </tr>\n",
              "  </tbody>\n",
              "</table>\n",
              "</div>"
            ],
            "text/plain": [
              "              numcol  yieldpercol  ...  priceperlb     prodvalue\n",
              "count     626.000000   626.000000  ...  626.000000  6.260000e+02\n",
              "mean    60284.345048    62.009585  ...    1.409569  4.715741e+06\n",
              "std     91077.087231    19.458754  ...    0.638599  7.976110e+06\n",
              "min      2000.000000    19.000000  ...    0.490000  1.620000e+05\n",
              "25%      9000.000000    48.000000  ...    0.932500  7.592500e+05\n",
              "50%     26000.000000    60.000000  ...    1.360000  1.841500e+06\n",
              "75%     63750.000000    74.000000  ...    1.680000  4.703250e+06\n",
              "max    510000.000000   136.000000  ...    4.150000  6.961500e+07\n",
              "\n",
              "[8 rows x 6 columns]"
            ]
          },
          "metadata": {
            "tags": []
          },
          "execution_count": 98
        }
      ]
    },
    {
      "cell_type": "markdown",
      "metadata": {
        "id": "iuaXhHKHdWii"
      },
      "source": [
        "จาก describe ดังกล่าวพบว่า ในคอลัมน์ totalprod,stock และ prodvalue ไม่ทราบค่าสูงสุด,ค่าต่ำสุด และค่าเฉลี่ย ดังนั้น นำคอลัมน์แต่ละอันมาตรวจสอบว่า ข้อมูลในแต่ละคอลัมน์มีค่ามากกว่า 1 ล้านหรือไม่"
      ]
    },
    {
      "cell_type": "code",
      "metadata": {
        "colab": {
          "base_uri": "https://localhost:8080/"
        },
        "id": "1D2SfiAmmslJ",
        "outputId": "23bcfeab-9eb4-428e-feaf-a950909633bb"
      },
      "source": [
        "sample = honeyProduction.drop('state',axis=1)\n",
        "samplebool = sample >= 1000000\n",
        "samplebool.sum()"
      ],
      "execution_count": null,
      "outputs": [
        {
          "output_type": "execute_result",
          "data": {
            "text/plain": [
              "numcol           0\n",
              "yieldpercol      0\n",
              "totalprod      374\n",
              "stocks         206\n",
              "priceperlb       0\n",
              "prodvalue      419\n",
              "year             0\n",
              "dtype: int64"
            ]
          },
          "metadata": {
            "tags": []
          },
          "execution_count": 99
        }
      ]
    },
    {
      "cell_type": "markdown",
      "metadata": {
        "id": "rYwDfQmyv-js"
      },
      "source": [
        "ในคอลัมน์ของ totalprod, stocks และ prodvalue พบว่ามีค่าเกิน 1 ล้าน ดังนั้นนำคอลัมน์ดังกล่าวไปหาร 1 ล้าน จะได้ dataset และ description ดังนี้"
      ]
    },
    {
      "cell_type": "code",
      "metadata": {
        "colab": {
          "base_uri": "https://localhost:8080/",
          "height": 419
        },
        "id": "BeT6dvOVugx0",
        "outputId": "e7921a93-ea38-48e8-d73d-7e4545048d61"
      },
      "source": [
        "honeyProduction['numcol'] = honeyProduction['numcol'] / 1000000\n",
        "honeyProduction['totalprod'] = honeyProduction['totalprod'] / 1000000\n",
        "honeyProduction['stocks'] = honeyProduction['stocks'] / 1000000\n",
        "honeyProduction['prodvalue'] = honeyProduction['prodvalue'] / 1000000\n",
        "honeyProduction"
      ],
      "execution_count": null,
      "outputs": [
        {
          "output_type": "execute_result",
          "data": {
            "text/html": [
              "<div>\n",
              "<style scoped>\n",
              "    .dataframe tbody tr th:only-of-type {\n",
              "        vertical-align: middle;\n",
              "    }\n",
              "\n",
              "    .dataframe tbody tr th {\n",
              "        vertical-align: top;\n",
              "    }\n",
              "\n",
              "    .dataframe thead th {\n",
              "        text-align: right;\n",
              "    }\n",
              "</style>\n",
              "<table border=\"1\" class=\"dataframe\">\n",
              "  <thead>\n",
              "    <tr style=\"text-align: right;\">\n",
              "      <th></th>\n",
              "      <th>state</th>\n",
              "      <th>numcol</th>\n",
              "      <th>yieldpercol</th>\n",
              "      <th>totalprod</th>\n",
              "      <th>stocks</th>\n",
              "      <th>priceperlb</th>\n",
              "      <th>prodvalue</th>\n",
              "      <th>year</th>\n",
              "    </tr>\n",
              "  </thead>\n",
              "  <tbody>\n",
              "    <tr>\n",
              "      <th>0</th>\n",
              "      <td>AL</td>\n",
              "      <td>0.016</td>\n",
              "      <td>71</td>\n",
              "      <td>1.136</td>\n",
              "      <td>0.159</td>\n",
              "      <td>0.72</td>\n",
              "      <td>0.818</td>\n",
              "      <td>1998</td>\n",
              "    </tr>\n",
              "    <tr>\n",
              "      <th>1</th>\n",
              "      <td>AZ</td>\n",
              "      <td>0.055</td>\n",
              "      <td>60</td>\n",
              "      <td>3.300</td>\n",
              "      <td>1.485</td>\n",
              "      <td>0.64</td>\n",
              "      <td>2.112</td>\n",
              "      <td>1998</td>\n",
              "    </tr>\n",
              "    <tr>\n",
              "      <th>2</th>\n",
              "      <td>AR</td>\n",
              "      <td>0.053</td>\n",
              "      <td>65</td>\n",
              "      <td>3.445</td>\n",
              "      <td>1.688</td>\n",
              "      <td>0.59</td>\n",
              "      <td>2.033</td>\n",
              "      <td>1998</td>\n",
              "    </tr>\n",
              "    <tr>\n",
              "      <th>3</th>\n",
              "      <td>CA</td>\n",
              "      <td>0.450</td>\n",
              "      <td>83</td>\n",
              "      <td>37.350</td>\n",
              "      <td>12.326</td>\n",
              "      <td>0.62</td>\n",
              "      <td>23.157</td>\n",
              "      <td>1998</td>\n",
              "    </tr>\n",
              "    <tr>\n",
              "      <th>4</th>\n",
              "      <td>CO</td>\n",
              "      <td>0.027</td>\n",
              "      <td>72</td>\n",
              "      <td>1.944</td>\n",
              "      <td>1.594</td>\n",
              "      <td>0.70</td>\n",
              "      <td>1.361</td>\n",
              "      <td>1998</td>\n",
              "    </tr>\n",
              "    <tr>\n",
              "      <th>...</th>\n",
              "      <td>...</td>\n",
              "      <td>...</td>\n",
              "      <td>...</td>\n",
              "      <td>...</td>\n",
              "      <td>...</td>\n",
              "      <td>...</td>\n",
              "      <td>...</td>\n",
              "      <td>...</td>\n",
              "    </tr>\n",
              "    <tr>\n",
              "      <th>621</th>\n",
              "      <td>VA</td>\n",
              "      <td>0.004</td>\n",
              "      <td>41</td>\n",
              "      <td>0.164</td>\n",
              "      <td>0.023</td>\n",
              "      <td>3.77</td>\n",
              "      <td>0.618</td>\n",
              "      <td>2012</td>\n",
              "    </tr>\n",
              "    <tr>\n",
              "      <th>622</th>\n",
              "      <td>WA</td>\n",
              "      <td>0.062</td>\n",
              "      <td>41</td>\n",
              "      <td>2.542</td>\n",
              "      <td>1.017</td>\n",
              "      <td>2.38</td>\n",
              "      <td>6.050</td>\n",
              "      <td>2012</td>\n",
              "    </tr>\n",
              "    <tr>\n",
              "      <th>623</th>\n",
              "      <td>WV</td>\n",
              "      <td>0.006</td>\n",
              "      <td>48</td>\n",
              "      <td>0.288</td>\n",
              "      <td>0.095</td>\n",
              "      <td>2.91</td>\n",
              "      <td>0.838</td>\n",
              "      <td>2012</td>\n",
              "    </tr>\n",
              "    <tr>\n",
              "      <th>624</th>\n",
              "      <td>WI</td>\n",
              "      <td>0.060</td>\n",
              "      <td>69</td>\n",
              "      <td>4.140</td>\n",
              "      <td>1.863</td>\n",
              "      <td>2.05</td>\n",
              "      <td>8.487</td>\n",
              "      <td>2012</td>\n",
              "    </tr>\n",
              "    <tr>\n",
              "      <th>625</th>\n",
              "      <td>WY</td>\n",
              "      <td>0.050</td>\n",
              "      <td>51</td>\n",
              "      <td>2.550</td>\n",
              "      <td>0.459</td>\n",
              "      <td>1.87</td>\n",
              "      <td>4.769</td>\n",
              "      <td>2012</td>\n",
              "    </tr>\n",
              "  </tbody>\n",
              "</table>\n",
              "<p>626 rows × 8 columns</p>\n",
              "</div>"
            ],
            "text/plain": [
              "    state  numcol  yieldpercol  totalprod  stocks  priceperlb  prodvalue  year\n",
              "0      AL   0.016           71      1.136   0.159        0.72      0.818  1998\n",
              "1      AZ   0.055           60      3.300   1.485        0.64      2.112  1998\n",
              "2      AR   0.053           65      3.445   1.688        0.59      2.033  1998\n",
              "3      CA   0.450           83     37.350  12.326        0.62     23.157  1998\n",
              "4      CO   0.027           72      1.944   1.594        0.70      1.361  1998\n",
              "..    ...     ...          ...        ...     ...         ...        ...   ...\n",
              "621    VA   0.004           41      0.164   0.023        3.77      0.618  2012\n",
              "622    WA   0.062           41      2.542   1.017        2.38      6.050  2012\n",
              "623    WV   0.006           48      0.288   0.095        2.91      0.838  2012\n",
              "624    WI   0.060           69      4.140   1.863        2.05      8.487  2012\n",
              "625    WY   0.050           51      2.550   0.459        1.87      4.769  2012\n",
              "\n",
              "[626 rows x 8 columns]"
            ]
          },
          "metadata": {
            "tags": []
          },
          "execution_count": 100
        }
      ]
    },
    {
      "cell_type": "code",
      "metadata": {
        "colab": {
          "base_uri": "https://localhost:8080/",
          "height": 297
        },
        "id": "Xpf2JdihD3vH",
        "outputId": "133a18da-1138-443e-a002-06cef2275793"
      },
      "source": [
        "honeyProduction.describe().drop('year',axis=1)"
      ],
      "execution_count": null,
      "outputs": [
        {
          "output_type": "execute_result",
          "data": {
            "text/html": [
              "<div>\n",
              "<style scoped>\n",
              "    .dataframe tbody tr th:only-of-type {\n",
              "        vertical-align: middle;\n",
              "    }\n",
              "\n",
              "    .dataframe tbody tr th {\n",
              "        vertical-align: top;\n",
              "    }\n",
              "\n",
              "    .dataframe thead th {\n",
              "        text-align: right;\n",
              "    }\n",
              "</style>\n",
              "<table border=\"1\" class=\"dataframe\">\n",
              "  <thead>\n",
              "    <tr style=\"text-align: right;\">\n",
              "      <th></th>\n",
              "      <th>numcol</th>\n",
              "      <th>yieldpercol</th>\n",
              "      <th>totalprod</th>\n",
              "      <th>stocks</th>\n",
              "      <th>priceperlb</th>\n",
              "      <th>prodvalue</th>\n",
              "    </tr>\n",
              "  </thead>\n",
              "  <tbody>\n",
              "    <tr>\n",
              "      <th>count</th>\n",
              "      <td>626.000000</td>\n",
              "      <td>626.000000</td>\n",
              "      <td>626.000000</td>\n",
              "      <td>626.000000</td>\n",
              "      <td>626.000000</td>\n",
              "      <td>626.000000</td>\n",
              "    </tr>\n",
              "    <tr>\n",
              "      <th>mean</th>\n",
              "      <td>0.060284</td>\n",
              "      <td>62.009585</td>\n",
              "      <td>4.169086</td>\n",
              "      <td>1.318859</td>\n",
              "      <td>1.409569</td>\n",
              "      <td>4.715741</td>\n",
              "    </tr>\n",
              "    <tr>\n",
              "      <th>std</th>\n",
              "      <td>0.091077</td>\n",
              "      <td>19.458754</td>\n",
              "      <td>6.883847</td>\n",
              "      <td>2.272964</td>\n",
              "      <td>0.638599</td>\n",
              "      <td>7.976110</td>\n",
              "    </tr>\n",
              "    <tr>\n",
              "      <th>min</th>\n",
              "      <td>0.002000</td>\n",
              "      <td>19.000000</td>\n",
              "      <td>0.084000</td>\n",
              "      <td>0.008000</td>\n",
              "      <td>0.490000</td>\n",
              "      <td>0.162000</td>\n",
              "    </tr>\n",
              "    <tr>\n",
              "      <th>25%</th>\n",
              "      <td>0.009000</td>\n",
              "      <td>48.000000</td>\n",
              "      <td>0.475000</td>\n",
              "      <td>0.143000</td>\n",
              "      <td>0.932500</td>\n",
              "      <td>0.759250</td>\n",
              "    </tr>\n",
              "    <tr>\n",
              "      <th>50%</th>\n",
              "      <td>0.026000</td>\n",
              "      <td>60.000000</td>\n",
              "      <td>1.533000</td>\n",
              "      <td>0.439500</td>\n",
              "      <td>1.360000</td>\n",
              "      <td>1.841500</td>\n",
              "    </tr>\n",
              "    <tr>\n",
              "      <th>75%</th>\n",
              "      <td>0.063750</td>\n",
              "      <td>74.000000</td>\n",
              "      <td>4.175250</td>\n",
              "      <td>1.489500</td>\n",
              "      <td>1.680000</td>\n",
              "      <td>4.703250</td>\n",
              "    </tr>\n",
              "    <tr>\n",
              "      <th>max</th>\n",
              "      <td>0.510000</td>\n",
              "      <td>136.000000</td>\n",
              "      <td>46.410000</td>\n",
              "      <td>13.800000</td>\n",
              "      <td>4.150000</td>\n",
              "      <td>69.615000</td>\n",
              "    </tr>\n",
              "  </tbody>\n",
              "</table>\n",
              "</div>"
            ],
            "text/plain": [
              "           numcol  yieldpercol   totalprod      stocks  priceperlb   prodvalue\n",
              "count  626.000000   626.000000  626.000000  626.000000  626.000000  626.000000\n",
              "mean     0.060284    62.009585    4.169086    1.318859    1.409569    4.715741\n",
              "std      0.091077    19.458754    6.883847    2.272964    0.638599    7.976110\n",
              "min      0.002000    19.000000    0.084000    0.008000    0.490000    0.162000\n",
              "25%      0.009000    48.000000    0.475000    0.143000    0.932500    0.759250\n",
              "50%      0.026000    60.000000    1.533000    0.439500    1.360000    1.841500\n",
              "75%      0.063750    74.000000    4.175250    1.489500    1.680000    4.703250\n",
              "max      0.510000   136.000000   46.410000   13.800000    4.150000   69.615000"
            ]
          },
          "metadata": {
            "tags": []
          },
          "execution_count": 101
        }
      ]
    },
    {
      "cell_type": "markdown",
      "metadata": {
        "id": "UM0DcgWH3NLf"
      },
      "source": [
        "#Data Aggregation"
      ]
    },
    {
      "cell_type": "markdown",
      "metadata": {
        "id": "soV1hoK5L5gB"
      },
      "source": [
        "จะเห็นว่า ค่าที่อยู่ในdescription ดังกล่าว ง่ายแก่การอ่านค่าในแต่คอลัมน์ แต่ยังไม่รู้ว่า รัฐไหนมีจำนวนน้ำผึ้งรวมมากที่สุด และมูลค่าน้ำผึ้งรวมมากที่สุด เราจะใช้วิธีการจัดกลุ่มในการหาค่าสูงสุด และต่ำสุด โดยให้คอลัมน์ของรัฐเป็นหลัก"
      ]
    },
    {
      "cell_type": "code",
      "metadata": {
        "colab": {
          "base_uri": "https://localhost:8080/",
          "height": 1000
        },
        "id": "y-F7jfZY3YuA",
        "outputId": "b770f629-28c8-4222-e882-cb22c996bc8f"
      },
      "source": [
        "dataset_state = honeyProduction.groupby('state').sum()\n",
        "dataset_state.drop('year',axis=1)"
      ],
      "execution_count": null,
      "outputs": [
        {
          "output_type": "execute_result",
          "data": {
            "text/html": [
              "<div>\n",
              "<style scoped>\n",
              "    .dataframe tbody tr th:only-of-type {\n",
              "        vertical-align: middle;\n",
              "    }\n",
              "\n",
              "    .dataframe tbody tr th {\n",
              "        vertical-align: top;\n",
              "    }\n",
              "\n",
              "    .dataframe thead th {\n",
              "        text-align: right;\n",
              "    }\n",
              "</style>\n",
              "<table border=\"1\" class=\"dataframe\">\n",
              "  <thead>\n",
              "    <tr style=\"text-align: right;\">\n",
              "      <th></th>\n",
              "      <th>numcol</th>\n",
              "      <th>yieldpercol</th>\n",
              "      <th>totalprod</th>\n",
              "      <th>stocks</th>\n",
              "      <th>priceperlb</th>\n",
              "      <th>prodvalue</th>\n",
              "    </tr>\n",
              "    <tr>\n",
              "      <th>state</th>\n",
              "      <th></th>\n",
              "      <th></th>\n",
              "      <th></th>\n",
              "      <th></th>\n",
              "      <th></th>\n",
              "      <th></th>\n",
              "    </tr>\n",
              "  </thead>\n",
              "  <tbody>\n",
              "    <tr>\n",
              "      <th>AL</th>\n",
              "      <td>0.179</td>\n",
              "      <td>1013</td>\n",
              "      <td>12.382</td>\n",
              "      <td>2.382</td>\n",
              "      <td>21.28</td>\n",
              "      <td>15.029</td>\n",
              "    </tr>\n",
              "    <tr>\n",
              "      <th>AR</th>\n",
              "      <td>0.552</td>\n",
              "      <td>1109</td>\n",
              "      <td>42.156</td>\n",
              "      <td>14.890</td>\n",
              "      <td>16.38</td>\n",
              "      <td>40.266</td>\n",
              "    </tr>\n",
              "    <tr>\n",
              "      <th>AZ</th>\n",
              "      <td>0.505</td>\n",
              "      <td>901</td>\n",
              "      <td>30.484</td>\n",
              "      <td>13.155</td>\n",
              "      <td>17.02</td>\n",
              "      <td>31.677</td>\n",
              "    </tr>\n",
              "    <tr>\n",
              "      <th>CA</th>\n",
              "      <td>6.100</td>\n",
              "      <td>837</td>\n",
              "      <td>347.535</td>\n",
              "      <td>96.807</td>\n",
              "      <td>17.00</td>\n",
              "      <td>365.390</td>\n",
              "    </tr>\n",
              "    <tr>\n",
              "      <th>CO</th>\n",
              "      <td>0.420</td>\n",
              "      <td>942</td>\n",
              "      <td>26.259</td>\n",
              "      <td>12.229</td>\n",
              "      <td>18.44</td>\n",
              "      <td>31.354</td>\n",
              "    </tr>\n",
              "    <tr>\n",
              "      <th>FL</th>\n",
              "      <td>2.928</td>\n",
              "      <td>1246</td>\n",
              "      <td>247.048</td>\n",
              "      <td>33.144</td>\n",
              "      <td>16.51</td>\n",
              "      <td>249.229</td>\n",
              "    </tr>\n",
              "    <tr>\n",
              "      <th>GA</th>\n",
              "      <td>0.906</td>\n",
              "      <td>820</td>\n",
              "      <td>49.499</td>\n",
              "      <td>5.284</td>\n",
              "      <td>17.78</td>\n",
              "      <td>58.013</td>\n",
              "    </tr>\n",
              "    <tr>\n",
              "      <th>HI</th>\n",
              "      <td>0.131</td>\n",
              "      <td>1470</td>\n",
              "      <td>12.647</td>\n",
              "      <td>2.553</td>\n",
              "      <td>25.65</td>\n",
              "      <td>21.063</td>\n",
              "    </tr>\n",
              "    <tr>\n",
              "      <th>IA</th>\n",
              "      <td>0.472</td>\n",
              "      <td>986</td>\n",
              "      <td>31.200</td>\n",
              "      <td>16.949</td>\n",
              "      <td>19.81</td>\n",
              "      <td>38.825</td>\n",
              "    </tr>\n",
              "    <tr>\n",
              "      <th>ID</th>\n",
              "      <td>1.491</td>\n",
              "      <td>660</td>\n",
              "      <td>66.160</td>\n",
              "      <td>28.139</td>\n",
              "      <td>17.07</td>\n",
              "      <td>71.431</td>\n",
              "    </tr>\n",
              "    <tr>\n",
              "      <th>IL</th>\n",
              "      <td>0.121</td>\n",
              "      <td>925</td>\n",
              "      <td>7.475</td>\n",
              "      <td>3.149</td>\n",
              "      <td>32.09</td>\n",
              "      <td>15.113</td>\n",
              "    </tr>\n",
              "    <tr>\n",
              "      <th>IN</th>\n",
              "      <td>0.119</td>\n",
              "      <td>914</td>\n",
              "      <td>7.260</td>\n",
              "      <td>3.039</td>\n",
              "      <td>22.89</td>\n",
              "      <td>10.358</td>\n",
              "    </tr>\n",
              "    <tr>\n",
              "      <th>KS</th>\n",
              "      <td>0.189</td>\n",
              "      <td>841</td>\n",
              "      <td>10.619</td>\n",
              "      <td>5.238</td>\n",
              "      <td>21.19</td>\n",
              "      <td>13.861</td>\n",
              "    </tr>\n",
              "    <tr>\n",
              "      <th>KY</th>\n",
              "      <td>0.066</td>\n",
              "      <td>782</td>\n",
              "      <td>3.445</td>\n",
              "      <td>0.704</td>\n",
              "      <td>31.24</td>\n",
              "      <td>7.199</td>\n",
              "    </tr>\n",
              "    <tr>\n",
              "      <th>LA</th>\n",
              "      <td>0.565</td>\n",
              "      <td>1436</td>\n",
              "      <td>54.410</td>\n",
              "      <td>8.156</td>\n",
              "      <td>15.81</td>\n",
              "      <td>54.303</td>\n",
              "    </tr>\n",
              "    <tr>\n",
              "      <th>MD</th>\n",
              "      <td>0.028</td>\n",
              "      <td>270</td>\n",
              "      <td>1.266</td>\n",
              "      <td>0.291</td>\n",
              "      <td>9.37</td>\n",
              "      <td>1.833</td>\n",
              "    </tr>\n",
              "    <tr>\n",
              "      <th>ME</th>\n",
              "      <td>0.126</td>\n",
              "      <td>466</td>\n",
              "      <td>3.701</td>\n",
              "      <td>1.445</td>\n",
              "      <td>21.48</td>\n",
              "      <td>5.067</td>\n",
              "    </tr>\n",
              "    <tr>\n",
              "      <th>MI</th>\n",
              "      <td>1.067</td>\n",
              "      <td>1022</td>\n",
              "      <td>72.820</td>\n",
              "      <td>34.434</td>\n",
              "      <td>18.48</td>\n",
              "      <td>86.804</td>\n",
              "    </tr>\n",
              "    <tr>\n",
              "      <th>MN</th>\n",
              "      <td>1.934</td>\n",
              "      <td>1114</td>\n",
              "      <td>144.360</td>\n",
              "      <td>32.787</td>\n",
              "      <td>17.28</td>\n",
              "      <td>157.850</td>\n",
              "    </tr>\n",
              "    <tr>\n",
              "      <th>MO</th>\n",
              "      <td>0.235</td>\n",
              "      <td>801</td>\n",
              "      <td>13.073</td>\n",
              "      <td>3.049</td>\n",
              "      <td>20.67</td>\n",
              "      <td>14.768</td>\n",
              "    </tr>\n",
              "    <tr>\n",
              "      <th>MS</th>\n",
              "      <td>0.252</td>\n",
              "      <td>1312</td>\n",
              "      <td>21.853</td>\n",
              "      <td>4.718</td>\n",
              "      <td>15.88</td>\n",
              "      <td>24.252</td>\n",
              "    </tr>\n",
              "    <tr>\n",
              "      <th>MT</th>\n",
              "      <td>2.040</td>\n",
              "      <td>1160</td>\n",
              "      <td>156.562</td>\n",
              "      <td>47.950</td>\n",
              "      <td>17.26</td>\n",
              "      <td>176.903</td>\n",
              "    </tr>\n",
              "    <tr>\n",
              "      <th>NC</th>\n",
              "      <td>0.171</td>\n",
              "      <td>717</td>\n",
              "      <td>8.141</td>\n",
              "      <td>1.898</td>\n",
              "      <td>31.11</td>\n",
              "      <td>17.158</td>\n",
              "    </tr>\n",
              "    <tr>\n",
              "      <th>ND</th>\n",
              "      <td>5.555</td>\n",
              "      <td>1321</td>\n",
              "      <td>475.085</td>\n",
              "      <td>132.898</td>\n",
              "      <td>16.88</td>\n",
              "      <td>545.642</td>\n",
              "    </tr>\n",
              "    <tr>\n",
              "      <th>NE</th>\n",
              "      <td>0.695</td>\n",
              "      <td>1012</td>\n",
              "      <td>47.379</td>\n",
              "      <td>25.340</td>\n",
              "      <td>17.59</td>\n",
              "      <td>52.895</td>\n",
              "    </tr>\n",
              "    <tr>\n",
              "      <th>NJ</th>\n",
              "      <td>0.164</td>\n",
              "      <td>554</td>\n",
              "      <td>5.993</td>\n",
              "      <td>1.722</td>\n",
              "      <td>22.64</td>\n",
              "      <td>9.105</td>\n",
              "    </tr>\n",
              "    <tr>\n",
              "      <th>NM</th>\n",
              "      <td>0.131</td>\n",
              "      <td>808</td>\n",
              "      <td>7.147</td>\n",
              "      <td>3.524</td>\n",
              "      <td>19.77</td>\n",
              "      <td>8.208</td>\n",
              "    </tr>\n",
              "    <tr>\n",
              "      <th>NV</th>\n",
              "      <td>0.108</td>\n",
              "      <td>497</td>\n",
              "      <td>4.832</td>\n",
              "      <td>1.611</td>\n",
              "      <td>24.41</td>\n",
              "      <td>10.669</td>\n",
              "    </tr>\n",
              "    <tr>\n",
              "      <th>NY</th>\n",
              "      <td>0.846</td>\n",
              "      <td>1037</td>\n",
              "      <td>59.062</td>\n",
              "      <td>26.617</td>\n",
              "      <td>20.42</td>\n",
              "      <td>75.063</td>\n",
              "    </tr>\n",
              "    <tr>\n",
              "      <th>OH</th>\n",
              "      <td>0.242</td>\n",
              "      <td>953</td>\n",
              "      <td>15.601</td>\n",
              "      <td>6.500</td>\n",
              "      <td>23.86</td>\n",
              "      <td>23.282</td>\n",
              "    </tr>\n",
              "    <tr>\n",
              "      <th>OK</th>\n",
              "      <td>0.027</td>\n",
              "      <td>278</td>\n",
              "      <td>1.207</td>\n",
              "      <td>0.401</td>\n",
              "      <td>8.74</td>\n",
              "      <td>1.711</td>\n",
              "    </tr>\n",
              "    <tr>\n",
              "      <th>OR</th>\n",
              "      <td>0.729</td>\n",
              "      <td>666</td>\n",
              "      <td>31.821</td>\n",
              "      <td>16.183</td>\n",
              "      <td>18.79</td>\n",
              "      <td>39.349</td>\n",
              "    </tr>\n",
              "    <tr>\n",
              "      <th>PA</th>\n",
              "      <td>0.386</td>\n",
              "      <td>756</td>\n",
              "      <td>19.434</td>\n",
              "      <td>8.328</td>\n",
              "      <td>22.82</td>\n",
              "      <td>27.745</td>\n",
              "    </tr>\n",
              "    <tr>\n",
              "      <th>SC</th>\n",
              "      <td>0.016</td>\n",
              "      <td>204</td>\n",
              "      <td>1.030</td>\n",
              "      <td>0.089</td>\n",
              "      <td>3.93</td>\n",
              "      <td>1.338</td>\n",
              "    </tr>\n",
              "    <tr>\n",
              "      <th>SD</th>\n",
              "      <td>3.544</td>\n",
              "      <td>1137</td>\n",
              "      <td>266.141</td>\n",
              "      <td>131.494</td>\n",
              "      <td>17.10</td>\n",
              "      <td>290.651</td>\n",
              "    </tr>\n",
              "    <tr>\n",
              "      <th>TN</th>\n",
              "      <td>0.108</td>\n",
              "      <td>845</td>\n",
              "      <td>6.116</td>\n",
              "      <td>1.468</td>\n",
              "      <td>28.41</td>\n",
              "      <td>11.399</td>\n",
              "    </tr>\n",
              "    <tr>\n",
              "      <th>TX</th>\n",
              "      <td>1.478</td>\n",
              "      <td>1058</td>\n",
              "      <td>104.904</td>\n",
              "      <td>20.520</td>\n",
              "      <td>16.72</td>\n",
              "      <td>111.438</td>\n",
              "    </tr>\n",
              "    <tr>\n",
              "      <th>UT</th>\n",
              "      <td>0.380</td>\n",
              "      <td>698</td>\n",
              "      <td>17.686</td>\n",
              "      <td>4.615</td>\n",
              "      <td>17.50</td>\n",
              "      <td>20.165</td>\n",
              "    </tr>\n",
              "    <tr>\n",
              "      <th>VA</th>\n",
              "      <td>0.099</td>\n",
              "      <td>603</td>\n",
              "      <td>3.998</td>\n",
              "      <td>1.004</td>\n",
              "      <td>34.80</td>\n",
              "      <td>8.583</td>\n",
              "    </tr>\n",
              "    <tr>\n",
              "      <th>VT</th>\n",
              "      <td>0.085</td>\n",
              "      <td>1004</td>\n",
              "      <td>5.821</td>\n",
              "      <td>2.284</td>\n",
              "      <td>23.78</td>\n",
              "      <td>8.435</td>\n",
              "    </tr>\n",
              "    <tr>\n",
              "      <th>WA</th>\n",
              "      <td>0.835</td>\n",
              "      <td>732</td>\n",
              "      <td>40.316</td>\n",
              "      <td>16.653</td>\n",
              "      <td>18.72</td>\n",
              "      <td>49.787</td>\n",
              "    </tr>\n",
              "    <tr>\n",
              "      <th>WI</th>\n",
              "      <td>1.022</td>\n",
              "      <td>1191</td>\n",
              "      <td>81.833</td>\n",
              "      <td>42.726</td>\n",
              "      <td>19.08</td>\n",
              "      <td>97.706</td>\n",
              "    </tr>\n",
              "    <tr>\n",
              "      <th>WV</th>\n",
              "      <td>0.098</td>\n",
              "      <td>728</td>\n",
              "      <td>4.818</td>\n",
              "      <td>2.006</td>\n",
              "      <td>27.52</td>\n",
              "      <td>8.289</td>\n",
              "    </tr>\n",
              "    <tr>\n",
              "      <th>WY</th>\n",
              "      <td>0.593</td>\n",
              "      <td>992</td>\n",
              "      <td>39.269</td>\n",
              "      <td>7.233</td>\n",
              "      <td>17.22</td>\n",
              "      <td>42.848</td>\n",
              "    </tr>\n",
              "  </tbody>\n",
              "</table>\n",
              "</div>"
            ],
            "text/plain": [
              "       numcol  yieldpercol  totalprod   stocks  priceperlb  prodvalue\n",
              "state                                                                \n",
              "AL      0.179         1013     12.382    2.382       21.28     15.029\n",
              "AR      0.552         1109     42.156   14.890       16.38     40.266\n",
              "AZ      0.505          901     30.484   13.155       17.02     31.677\n",
              "CA      6.100          837    347.535   96.807       17.00    365.390\n",
              "CO      0.420          942     26.259   12.229       18.44     31.354\n",
              "FL      2.928         1246    247.048   33.144       16.51    249.229\n",
              "GA      0.906          820     49.499    5.284       17.78     58.013\n",
              "HI      0.131         1470     12.647    2.553       25.65     21.063\n",
              "IA      0.472          986     31.200   16.949       19.81     38.825\n",
              "ID      1.491          660     66.160   28.139       17.07     71.431\n",
              "IL      0.121          925      7.475    3.149       32.09     15.113\n",
              "IN      0.119          914      7.260    3.039       22.89     10.358\n",
              "KS      0.189          841     10.619    5.238       21.19     13.861\n",
              "KY      0.066          782      3.445    0.704       31.24      7.199\n",
              "LA      0.565         1436     54.410    8.156       15.81     54.303\n",
              "MD      0.028          270      1.266    0.291        9.37      1.833\n",
              "ME      0.126          466      3.701    1.445       21.48      5.067\n",
              "MI      1.067         1022     72.820   34.434       18.48     86.804\n",
              "MN      1.934         1114    144.360   32.787       17.28    157.850\n",
              "MO      0.235          801     13.073    3.049       20.67     14.768\n",
              "MS      0.252         1312     21.853    4.718       15.88     24.252\n",
              "MT      2.040         1160    156.562   47.950       17.26    176.903\n",
              "NC      0.171          717      8.141    1.898       31.11     17.158\n",
              "ND      5.555         1321    475.085  132.898       16.88    545.642\n",
              "NE      0.695         1012     47.379   25.340       17.59     52.895\n",
              "NJ      0.164          554      5.993    1.722       22.64      9.105\n",
              "NM      0.131          808      7.147    3.524       19.77      8.208\n",
              "NV      0.108          497      4.832    1.611       24.41     10.669\n",
              "NY      0.846         1037     59.062   26.617       20.42     75.063\n",
              "OH      0.242          953     15.601    6.500       23.86     23.282\n",
              "OK      0.027          278      1.207    0.401        8.74      1.711\n",
              "OR      0.729          666     31.821   16.183       18.79     39.349\n",
              "PA      0.386          756     19.434    8.328       22.82     27.745\n",
              "SC      0.016          204      1.030    0.089        3.93      1.338\n",
              "SD      3.544         1137    266.141  131.494       17.10    290.651\n",
              "TN      0.108          845      6.116    1.468       28.41     11.399\n",
              "TX      1.478         1058    104.904   20.520       16.72    111.438\n",
              "UT      0.380          698     17.686    4.615       17.50     20.165\n",
              "VA      0.099          603      3.998    1.004       34.80      8.583\n",
              "VT      0.085         1004      5.821    2.284       23.78      8.435\n",
              "WA      0.835          732     40.316   16.653       18.72     49.787\n",
              "WI      1.022         1191     81.833   42.726       19.08     97.706\n",
              "WV      0.098          728      4.818    2.006       27.52      8.289\n",
              "WY      0.593          992     39.269    7.233       17.22     42.848"
            ]
          },
          "metadata": {
            "tags": []
          },
          "execution_count": 102
        }
      ]
    },
    {
      "cell_type": "code",
      "metadata": {
        "colab": {
          "base_uri": "https://localhost:8080/"
        },
        "id": "qYC_kuhN5-Dv",
        "outputId": "20025d84-0e3c-468c-c12c-971e78c5b029"
      },
      "source": [
        "print(\"จำนวนน้ำผึ้งรวมน้อยที่สุด คือ %.3f ล้านปอนด์\"% dataset_state['totalprod'].min())\n",
        "print(\"จำนวนน้ำผึ้งรวมมากที่สุด คือ %.3f ล้านปอนด์\"% dataset_state['totalprod'].max())\n",
        "print()\n",
        "print(\"มูลค่าน้ำผึ้งรวมน้อยที่สุด คือ %.3f ล้านดอลลาร์\"% dataset_state['prodvalue'].min())\n",
        "print(\"มูลค่าน้ำผึ้งรวมมากที่สุด คือ %.3f ล้านดอลลาร์\"% dataset_state['prodvalue'].max())"
      ],
      "execution_count": null,
      "outputs": [
        {
          "output_type": "stream",
          "text": [
            "จำนวนน้ำผึ้งรวมน้อยที่สุด คือ 1.030 ล้านปอนด์\n",
            "จำนวนน้ำผึ้งรวมมากที่สุด คือ 475.085 ล้านปอนด์\n",
            "\n",
            "มูลค่าน้ำผึ้งรวมน้อยที่สุด คือ 1.338 ล้านดอลลาร์\n",
            "มูลค่าน้ำผึ้งรวมมากที่สุด คือ 545.642 ล้านดอลลาร์\n"
          ],
          "name": "stdout"
        }
      ]
    },
    {
      "cell_type": "markdown",
      "metadata": {
        "id": "-iloPcqjTpeA"
      },
      "source": [
        "จะสรุปได้ว่ารัฐที่มีจำนวนน้ำผึ้งและมูลค่าน้ำผึ้งรวมมากที่สุด คือรัฐ North Dakota อยู่ที่ 475.08 ล้านปอนด์ และ 545.642 ล้านดอลลาร์ ตามลำดับ ส่วนรัฐที่มีจำนวนน้ำผึ้งและมูลค่าน้ำผึ้งรวมน้อยที่สุด คือรัฐ South Carolina อยู่ที่ 1.03 ล้านปอนด์ และ 1.338 ล้านดอลลาร์ ตามลำดับ"
      ]
    },
    {
      "cell_type": "markdown",
      "metadata": {
        "id": "5b594kCS286J"
      },
      "source": [
        "# การนำเสนอกราฟ"
      ]
    },
    {
      "cell_type": "markdown",
      "metadata": {
        "id": "nID1yzDuwZ_6"
      },
      "source": [
        "พอมาถึงในช่วงการนำเสนอกราฟ เราจะนำเสนอกราฟประเภท scatter เพื่อทราบถึงการกระจายของข้อมูล และอัตราเพิ่มขึ้นของราคาน้ำผึ้งรวม แต่ว่ามีจำนวนปี ระหว่างปี 1998 ถึง 2012 ซึ่งมีระยะเวลาห่างกันมาก จะต้องใช้ตัวแปรในการกำหนดจุดในกราฟมากเกินไป ทำให้ลำบากในการแสดงกราฟ และอ่านตำแหน่งบนกราฟได้ยาก ดังนั้น ทำการแบ่งช่วงปีออกเป็นสามช่วงเพื่อที่จะทราบช่วงปีได้ถูกต้อง คือ ปี 1998-2002, ปี 2003-2007 และ ปี 2008-2012 "
      ]
    },
    {
      "cell_type": "markdown",
      "metadata": {
        "id": "hEEQmTKF8Iqn"
      },
      "source": [
        "**กราฟนี้แสดง การกระจายข้อมูลของน้ำผึ้งในประเทศสหรัฐอเมริกา**"
      ]
    },
    {
      "cell_type": "code",
      "metadata": {
        "colab": {
          "base_uri": "https://localhost:8080/",
          "height": 779
        },
        "id": "oR0F0H7B3G6N",
        "outputId": "ab76800b-07c1-47c1-8794-c379c6f315cf"
      },
      "source": [
        "plt.style.use('default')\n",
        "\n",
        "plt.rcParams['figure.figsize'] = [10, 10] \n",
        "\n",
        "fontdict={'fontsize': 18,\n",
        "          'weight' : 'bold',\n",
        "         'horizontalalignment': 'center'}\n",
        "\n",
        "fontdictx={'fontsize': 18,\n",
        "          'weight' : 'bold',\n",
        "          'horizontalalignment': 'center'}\n",
        "\n",
        "fontdicty={'fontsize': 16,\n",
        "          'weight' : 'bold',\n",
        "          'verticalalignment': 'baseline',\n",
        "          'horizontalalignment': 'center'}\n",
        "\n",
        "year1 = plt.scatter('totalprod', 'prodvalue', data=honeyProduction[(honeyProduction['year']>=1998) & (honeyProduction['year']<=2002)], marker='x', color='green')\n",
        "year2 = plt.scatter('totalprod', 'prodvalue', data=honeyProduction[(honeyProduction['year']>=2003) & (honeyProduction['year']<=2007)], marker='x', color='blue')\n",
        "year3 = plt.scatter('totalprod', 'prodvalue', data=honeyProduction[(honeyProduction['year']>=2008) & (honeyProduction['year']<=2012)], marker='x', color='orange')\n",
        "\n",
        "plt.legend(handles=(year1, year2, year3),\n",
        "           labels=('1998-2002', '2003-2007', '2008-2012'),\n",
        "           title=\"Year\", title_fontsize=16,\n",
        "           scatterpoints=1,\n",
        "           bbox_to_anchor=(1, 0.7), loc=2, borderaxespad=1.,\n",
        "           ncol=1,\n",
        "           fontsize=14)\n",
        "\n",
        "plt.title('Honey Production in the USA (1998-2012)', fontdict=fontdict, color=\"black\")\n",
        "plt.xlabel(\"total product (millon lbs)\", fontdict=fontdictx)\n",
        "plt.ylabel(\"product value (millon dollars)\", fontdict=fontdicty)\n",
        "plt.show()"
      ],
      "execution_count": null,
      "outputs": [
        {
          "output_type": "display_data",
          "data": {
            "image/png": "[encoded data removed]",
            "text/plain": [
              "<Figure size 1000x1000 with 1 Axes>"
            ]
          },
          "metadata": {
            "tags": []
          }
        }
      ]
    },
    {
      "cell_type": "markdown",
      "metadata": {
        "id": "zOa82YJO_C-A"
      },
      "source": [
        "จากกราฟนี้พบว่า ข้อมูลส่วนใหญ่จะกระจุกตัวประมาณในช่วง 0 ถึง 8 ปอนต์/ดอลลาร์ แสดงว่าการผลิตน้ำผึ้งในแต่วันน้อยมาก"
      ]
    },
    {
      "cell_type": "markdown",
      "metadata": {
        "id": "lEnZ9JYfAtRX"
      },
      "source": [
        "**กราฟนี้แสดง อัตราการเพิ่มขึ้นของราคาน้ำผึ้งรวม**"
      ]
    },
    {
      "cell_type": "code",
      "metadata": {
        "colab": {
          "base_uri": "https://localhost:8080/",
          "height": 960
        },
        "id": "WTsLHsMyzQUo",
        "outputId": "65474026-e2e3-4b91-d422-2b5ec2672c88"
      },
      "source": [
        "fig = plt.figure()\n",
        "plt.style.use('default')\n",
        "\n",
        "plt.rcParams['figure.figsize'] = [15,10]\n",
        "plt.rcParams[\"font.weight\"] = \"bold\"\n",
        "\n",
        "fontdict={'fontsize': 25,\n",
        "          'weight' : 'bold'}\n",
        "\n",
        "fontdicty={'fontsize': 18,\n",
        "          'weight' : 'bold',\n",
        "          'verticalalignment': 'baseline',\n",
        "          'horizontalalignment': 'center'}\n",
        "\n",
        "fontdictx={'fontsize': 18,\n",
        "          'weight' : 'bold',\n",
        "          'horizontalalignment': 'center'}\n",
        "\n",
        "plt.subplots_adjust(wspace=0.2, hspace=0.2)\n",
        "\n",
        "fig.suptitle('Honey Production in the USA (1998-2012)', fontsize=25,fontweight=\"bold\", color=\"black\", \n",
        "             position=(0.5,1.01))\n",
        "\n",
        "ax1 = fig.add_subplot(221)\n",
        "ax1.scatter('totalprod', 'prodvalue', data=honeyProduction[(honeyProduction['year']>=1998) & (honeyProduction['year']<=2002)], marker='x', c=\"green\")\n",
        "ax1.set_title('1998-2002', fontdict=fontdict, color=\"green\")\n",
        "ax1.set_ylabel(\"product value (millon dollars)\", fontdict=fontdicty, position=(0,-0.1))\n",
        "\n",
        "X1 = np.array(honeyProduction[(honeyProduction['year']>=1998) & (honeyProduction['year']<=2002)][\"totalprod\"])\n",
        "Y1 = np.array(honeyProduction[(honeyProduction['year']>=1998) & (honeyProduction['year']<=2002)][\"prodvalue\"])\n",
        "m, b = np.polyfit(X1, Y1, 1)\n",
        "plt.plot(X1, m*X1 + b, color=\"red\")\n",
        "\n",
        "ax2 = fig.add_subplot(222)\n",
        "ax2.scatter('totalprod', 'prodvalue', data=honeyProduction[(honeyProduction['year']>=2003) & (honeyProduction['year']<=2007)], marker='x', c=\"blue\")\n",
        "ax2.set_title('2003-2007', fontdict=fontdict, color=\"blue\")\n",
        "\n",
        "X2 = np.array(honeyProduction[(honeyProduction['year']>=2003) & (honeyProduction['year']<=2007)][\"totalprod\"])\n",
        "Y2 = np.array(honeyProduction[(honeyProduction['year']>=2003) & (honeyProduction['year']<=2007)][\"prodvalue\"])\n",
        "m, b = np.polyfit(X2, Y2, 1)\n",
        "plt.plot(X2, m*X2 + b, color=\"red\")\n",
        "\n",
        "ax3 = fig.add_subplot(223)\n",
        "ax3.scatter('totalprod', 'prodvalue', data=honeyProduction[(honeyProduction['year']>=2009) & (honeyProduction['year']<=2012)], marker='x', c=\"orange\")\n",
        "ax3.set_title('2008-2012', fontdict=fontdict, color=\"orange\")\n",
        "\n",
        "X3 = np.array(honeyProduction[(honeyProduction['year']>=2008) & (honeyProduction['year']<=2012)][\"totalprod\"])\n",
        "Y3 = np.array(honeyProduction[(honeyProduction['year']>=2008) & (honeyProduction['year']<=2012)][\"prodvalue\"])\n",
        "m, b = np.polyfit(X3, Y3, 1)\n",
        "plt.plot(X3, m*X3 + b, color=\"red\")\n",
        "plt.show()"
      ],
      "execution_count": null,
      "outputs": [
        {
          "output_type": "display_data",
          "data": {
            "image/png": "[encoded data removed]",
            "text/plain": [
              "<Figure size 1000x1000 with 3 Axes>"
            ]
          },
          "metadata": {
            "tags": []
          }
        }
      ]
    },
    {
      "cell_type": "markdown",
      "metadata": {
        "id": "KMZVsTYREnzY"
      },
      "source": [
        "จากกราฟนี้พบว่า กราฟนี้จะมีอัตราเพิ่มขึ้นของราคาน้ำผึ้งรวมสูงขึ้น และในช่วงปี 2008-2012 มีอัตราเพิ่มขึ้นสูงที่สุด"
      ]
    },
    {
      "cell_type": "markdown",
      "metadata": {
        "id": "DS_zKLS1jnQZ"
      },
      "source": [
        "**กราฟแท่งแสดง ราคาน้ำผึ้งในปี 1998-2012**"
      ]
    },
    {
      "cell_type": "markdown",
      "metadata": {
        "id": "4A8UJ_SMkHpD"
      },
      "source": [
        "ขั้นตอนแรก จัดกลุ่มโดยใช้ปีเป็น index"
      ]
    },
    {
      "cell_type": "code",
      "metadata": {
        "colab": {
          "base_uri": "https://localhost:8080/",
          "height": 545
        },
        "id": "jVMxegr4kUlU",
        "outputId": "296193b5-9d3a-435f-8c55-ac71ce889ab8"
      },
      "source": [
        "honey_bar = honeyProduction.groupby('year').sum()\n",
        "honey_bar"
      ],
      "execution_count": null,
      "outputs": [
        {
          "output_type": "execute_result",
          "data": {
            "text/html": [
              "<div>\n",
              "<style scoped>\n",
              "    .dataframe tbody tr th:only-of-type {\n",
              "        vertical-align: middle;\n",
              "    }\n",
              "\n",
              "    .dataframe tbody tr th {\n",
              "        vertical-align: top;\n",
              "    }\n",
              "\n",
              "    .dataframe thead th {\n",
              "        text-align: right;\n",
              "    }\n",
              "</style>\n",
              "<table border=\"1\" class=\"dataframe\">\n",
              "  <thead>\n",
              "    <tr style=\"text-align: right;\">\n",
              "      <th></th>\n",
              "      <th>numcol</th>\n",
              "      <th>yieldpercol</th>\n",
              "      <th>totalprod</th>\n",
              "      <th>stocks</th>\n",
              "      <th>priceperlb</th>\n",
              "      <th>prodvalue</th>\n",
              "    </tr>\n",
              "    <tr>\n",
              "      <th>year</th>\n",
              "      <th></th>\n",
              "      <th></th>\n",
              "      <th></th>\n",
              "      <th></th>\n",
              "      <th></th>\n",
              "      <th></th>\n",
              "    </tr>\n",
              "  </thead>\n",
              "  <tbody>\n",
              "    <tr>\n",
              "      <th>1998</th>\n",
              "      <td>2.621</td>\n",
              "      <td>3008</td>\n",
              "      <td>219.519</td>\n",
              "      <td>80.565</td>\n",
              "      <td>35.80</td>\n",
              "      <td>146.091</td>\n",
              "    </tr>\n",
              "    <tr>\n",
              "      <th>1999</th>\n",
              "      <td>2.637</td>\n",
              "      <td>2815</td>\n",
              "      <td>202.387</td>\n",
              "      <td>78.390</td>\n",
              "      <td>34.58</td>\n",
              "      <td>123.657</td>\n",
              "    </tr>\n",
              "    <tr>\n",
              "      <th>2000</th>\n",
              "      <td>2.604</td>\n",
              "      <td>2906</td>\n",
              "      <td>219.558</td>\n",
              "      <td>84.956</td>\n",
              "      <td>34.03</td>\n",
              "      <td>131.568</td>\n",
              "    </tr>\n",
              "    <tr>\n",
              "      <th>2001</th>\n",
              "      <td>2.542</td>\n",
              "      <td>2840</td>\n",
              "      <td>185.748</td>\n",
              "      <td>64.764</td>\n",
              "      <td>40.12</td>\n",
              "      <td>132.282</td>\n",
              "    </tr>\n",
              "    <tr>\n",
              "      <th>2002</th>\n",
              "      <td>2.565</td>\n",
              "      <td>2939</td>\n",
              "      <td>171.265</td>\n",
              "      <td>39.177</td>\n",
              "      <td>60.34</td>\n",
              "      <td>227.302</td>\n",
              "    </tr>\n",
              "    <tr>\n",
              "      <th>2003</th>\n",
              "      <td>2.591</td>\n",
              "      <td>2752</td>\n",
              "      <td>181.372</td>\n",
              "      <td>40.619</td>\n",
              "      <td>65.77</td>\n",
              "      <td>252.079</td>\n",
              "    </tr>\n",
              "    <tr>\n",
              "      <th>2004</th>\n",
              "      <td>2.539</td>\n",
              "      <td>2657</td>\n",
              "      <td>182.729</td>\n",
              "      <td>60.981</td>\n",
              "      <td>52.67</td>\n",
              "      <td>197.307</td>\n",
              "    </tr>\n",
              "    <tr>\n",
              "      <th>2005</th>\n",
              "      <td>2.394</td>\n",
              "      <td>2635</td>\n",
              "      <td>173.969</td>\n",
              "      <td>62.187</td>\n",
              "      <td>49.00</td>\n",
              "      <td>160.793</td>\n",
              "    </tr>\n",
              "    <tr>\n",
              "      <th>2006</th>\n",
              "      <td>2.378</td>\n",
              "      <td>2536</td>\n",
              "      <td>154.238</td>\n",
              "      <td>60.235</td>\n",
              "      <td>53.45</td>\n",
              "      <td>157.924</td>\n",
              "    </tr>\n",
              "    <tr>\n",
              "      <th>2007</th>\n",
              "      <td>2.428</td>\n",
              "      <td>2426</td>\n",
              "      <td>147.621</td>\n",
              "      <td>52.405</td>\n",
              "      <td>58.97</td>\n",
              "      <td>161.356</td>\n",
              "    </tr>\n",
              "    <tr>\n",
              "      <th>2008</th>\n",
              "      <td>2.326</td>\n",
              "      <td>2501</td>\n",
              "      <td>162.972</td>\n",
              "      <td>50.996</td>\n",
              "      <td>66.65</td>\n",
              "      <td>229.992</td>\n",
              "    </tr>\n",
              "    <tr>\n",
              "      <th>2009</th>\n",
              "      <td>2.472</td>\n",
              "      <td>2154</td>\n",
              "      <td>145.068</td>\n",
              "      <td>37.322</td>\n",
              "      <td>72.48</td>\n",
              "      <td>213.920</td>\n",
              "    </tr>\n",
              "    <tr>\n",
              "      <th>2010</th>\n",
              "      <td>2.666</td>\n",
              "      <td>2251</td>\n",
              "      <td>175.294</td>\n",
              "      <td>44.797</td>\n",
              "      <td>77.16</td>\n",
              "      <td>278.370</td>\n",
              "    </tr>\n",
              "    <tr>\n",
              "      <th>2011</th>\n",
              "      <td>2.466</td>\n",
              "      <td>2191</td>\n",
              "      <td>147.201</td>\n",
              "      <td>36.550</td>\n",
              "      <td>86.69</td>\n",
              "      <td>258.688</td>\n",
              "    </tr>\n",
              "    <tr>\n",
              "      <th>2012</th>\n",
              "      <td>2.509</td>\n",
              "      <td>2207</td>\n",
              "      <td>140.907</td>\n",
              "      <td>31.662</td>\n",
              "      <td>94.68</td>\n",
              "      <td>280.725</td>\n",
              "    </tr>\n",
              "  </tbody>\n",
              "</table>\n",
              "</div>"
            ],
            "text/plain": [
              "      numcol  yieldpercol  totalprod  stocks  priceperlb  prodvalue\n",
              "year                                                               \n",
              "1998   2.621         3008    219.519  80.565       35.80    146.091\n",
              "1999   2.637         2815    202.387  78.390       34.58    123.657\n",
              "2000   2.604         2906    219.558  84.956       34.03    131.568\n",
              "2001   2.542         2840    185.748  64.764       40.12    132.282\n",
              "2002   2.565         2939    171.265  39.177       60.34    227.302\n",
              "2003   2.591         2752    181.372  40.619       65.77    252.079\n",
              "2004   2.539         2657    182.729  60.981       52.67    197.307\n",
              "2005   2.394         2635    173.969  62.187       49.00    160.793\n",
              "2006   2.378         2536    154.238  60.235       53.45    157.924\n",
              "2007   2.428         2426    147.621  52.405       58.97    161.356\n",
              "2008   2.326         2501    162.972  50.996       66.65    229.992\n",
              "2009   2.472         2154    145.068  37.322       72.48    213.920\n",
              "2010   2.666         2251    175.294  44.797       77.16    278.370\n",
              "2011   2.466         2191    147.201  36.550       86.69    258.688\n",
              "2012   2.509         2207    140.907  31.662       94.68    280.725"
            ]
          },
          "metadata": {
            "tags": []
          },
          "execution_count": 106
        }
      ]
    },
    {
      "cell_type": "markdown",
      "metadata": {
        "id": "g1tIeoiWlFVR"
      },
      "source": [
        "ขั้นตอนที่สอง กำหนดแกน x และ y"
      ]
    },
    {
      "cell_type": "code",
      "metadata": {
        "colab": {
          "base_uri": "https://localhost:8080/"
        },
        "id": "uXsS0oUolLZB",
        "outputId": "e3f2bc76-fd41-4ed5-e09e-29bfbde404aa"
      },
      "source": [
        "x = np.array(honey_bar.index)\n",
        "y = np.array(honey_bar['prodvalue'])\n",
        "print(x)\n",
        "print(y)"
      ],
      "execution_count": null,
      "outputs": [
        {
          "output_type": "stream",
          "text": [
            "[1998 1999 2000 2001 2002 2003 2004 2005 2006 2007 2008 2009 2010 2011\n",
            " 2012]\n",
            "[146.091 123.657 131.568 132.282 227.302 252.079 197.307 160.793 157.924\n",
            " 161.356 229.992 213.92  278.37  258.688 280.725]\n"
          ],
          "name": "stdout"
        }
      ]
    },
    {
      "cell_type": "markdown",
      "metadata": {
        "id": "g7RHu8i_lsXS"
      },
      "source": [
        "สุดท้าย นำแกน x และ y นำไป plot กราฟใน matplotlib"
      ]
    },
    {
      "cell_type": "code",
      "metadata": {
        "colab": {
          "base_uri": "https://localhost:8080/",
          "height": 554
        },
        "id": "jM3RbHMjOXoi",
        "outputId": "c23f2690-d81a-4111-867e-5e67be1f22ab"
      },
      "source": [
        "plt.style.use('ggplot')\n",
        "plt.rcParams['figure.figsize'] = [15,10]\n",
        "\n",
        "x_pos = [i for i, _ in enumerate(x)]\n",
        "plt.bar(x_pos, y, color='orange')\n",
        "\n",
        "plt.xlabel(\"year\")\n",
        "plt.ylabel(\"product value (millon dollars)\")\n",
        "plt.title(\"Honey product value in the USA (1998-2012)\")\n",
        "\n",
        "plt.xticks(x_pos, x)\n",
        "plt.show()"
      ],
      "execution_count": null,
      "outputs": [
        {
          "output_type": "display_data",
          "data": {
            "image/png": "[encoded data removed]",
            "text/plain": [
              "<Figure size 1500x1000 with 1 Axes>"
            ]
          },
          "metadata": {
            "tags": []
          }
        }
      ]
    },
    {
      "cell_type": "markdown",
      "metadata": {
        "id": "BuF95q0l9gCC"
      },
      "source": [
        "จากกราฟนี้พบว่าในปี 1998 มีน้ำผึ้งมูลค่ารวมประมาณ 148 ล้านดอลลาร์ ต่อมาในปี 1999 ราคาน้ำผึ้งรวมลดลงเหลือประมาณ 124 ล้านดอลลาร์ ราคาน้ำผึ้งรวมจะคงที่ในปี 2000-2001 ในปี 2002 ราคาน้ำผึ้งรวมเพิ่มสูงขึ้นถึงประมาณ 225 ล้านดอลลาร์ จากนั้นเพิ่มขึ้นเล็กน้อยถึงประมาณ 260 ล้านดอลลาร์ในปี 2003 ลดลงเรื่อยๆจนถึงในปี 2005 และคงที่จนถึงในปี 2007 ต่อมาในปี 2008 เพิ่มสูงขึ้นถึงประมาณ 230 ล้านดอลลาร์ และในปี 2012 เพิ่มขึ้นสูงสุดถึงประมาณ 280 ล้านดอลลาร์"
      ]
    },
    {
      "cell_type": "markdown",
      "metadata": {
        "id": "nKm3hG2sq1ZF"
      },
      "source": [
        "**กราฟแท่งแสดงราคาน้ำผึ้งรวมในแต่ละรัฐ**"
      ]
    },
    {
      "cell_type": "markdown",
      "metadata": {
        "id": "3kxtT9s3rwgW"
      },
      "source": [
        "ขั้นตอนแรก กำหนดแกน x และ y โดยนำชุดข้อมูลที่รวมกลุ่มก่อนหน้านั้น(ชุดข้อมูลของคอลัมน์ของรัฐ) นำมาเรียงข้อมูลจากมากไปหาน้อยโดยใช้คอลัมน์ของ prodvalue เป็นหลัก"
      ]
    },
    {
      "cell_type": "code",
      "metadata": {
        "colab": {
          "base_uri": "https://localhost:8080/",
          "height": 1000
        },
        "id": "YvE_5zM1srC3",
        "outputId": "33fd1c48-ed8c-4f2c-e442-58eae125bd8e"
      },
      "source": [
        "dataset_state_sort = dataset_state.sort_values('prodvalue',ascending=False)\n",
        "dataset_state_sort.drop('year',axis=1)"
      ],
      "execution_count": null,
      "outputs": [
        {
          "output_type": "execute_result",
          "data": {
            "text/html": [
              "<div>\n",
              "<style scoped>\n",
              "    .dataframe tbody tr th:only-of-type {\n",
              "        vertical-align: middle;\n",
              "    }\n",
              "\n",
              "    .dataframe tbody tr th {\n",
              "        vertical-align: top;\n",
              "    }\n",
              "\n",
              "    .dataframe thead th {\n",
              "        text-align: right;\n",
              "    }\n",
              "</style>\n",
              "<table border=\"1\" class=\"dataframe\">\n",
              "  <thead>\n",
              "    <tr style=\"text-align: right;\">\n",
              "      <th></th>\n",
              "      <th>numcol</th>\n",
              "      <th>yieldpercol</th>\n",
              "      <th>totalprod</th>\n",
              "      <th>stocks</th>\n",
              "      <th>priceperlb</th>\n",
              "      <th>prodvalue</th>\n",
              "    </tr>\n",
              "    <tr>\n",
              "      <th>state</th>\n",
              "      <th></th>\n",
              "      <th></th>\n",
              "      <th></th>\n",
              "      <th></th>\n",
              "      <th></th>\n",
              "      <th></th>\n",
              "    </tr>\n",
              "  </thead>\n",
              "  <tbody>\n",
              "    <tr>\n",
              "      <th>ND</th>\n",
              "      <td>5.555</td>\n",
              "      <td>1321</td>\n",
              "      <td>475.085</td>\n",
              "      <td>132.898</td>\n",
              "      <td>16.88</td>\n",
              "      <td>545.642</td>\n",
              "    </tr>\n",
              "    <tr>\n",
              "      <th>CA</th>\n",
              "      <td>6.100</td>\n",
              "      <td>837</td>\n",
              "      <td>347.535</td>\n",
              "      <td>96.807</td>\n",
              "      <td>17.00</td>\n",
              "      <td>365.390</td>\n",
              "    </tr>\n",
              "    <tr>\n",
              "      <th>SD</th>\n",
              "      <td>3.544</td>\n",
              "      <td>1137</td>\n",
              "      <td>266.141</td>\n",
              "      <td>131.494</td>\n",
              "      <td>17.10</td>\n",
              "      <td>290.651</td>\n",
              "    </tr>\n",
              "    <tr>\n",
              "      <th>FL</th>\n",
              "      <td>2.928</td>\n",
              "      <td>1246</td>\n",
              "      <td>247.048</td>\n",
              "      <td>33.144</td>\n",
              "      <td>16.51</td>\n",
              "      <td>249.229</td>\n",
              "    </tr>\n",
              "    <tr>\n",
              "      <th>MT</th>\n",
              "      <td>2.040</td>\n",
              "      <td>1160</td>\n",
              "      <td>156.562</td>\n",
              "      <td>47.950</td>\n",
              "      <td>17.26</td>\n",
              "      <td>176.903</td>\n",
              "    </tr>\n",
              "    <tr>\n",
              "      <th>MN</th>\n",
              "      <td>1.934</td>\n",
              "      <td>1114</td>\n",
              "      <td>144.360</td>\n",
              "      <td>32.787</td>\n",
              "      <td>17.28</td>\n",
              "      <td>157.850</td>\n",
              "    </tr>\n",
              "    <tr>\n",
              "      <th>TX</th>\n",
              "      <td>1.478</td>\n",
              "      <td>1058</td>\n",
              "      <td>104.904</td>\n",
              "      <td>20.520</td>\n",
              "      <td>16.72</td>\n",
              "      <td>111.438</td>\n",
              "    </tr>\n",
              "    <tr>\n",
              "      <th>WI</th>\n",
              "      <td>1.022</td>\n",
              "      <td>1191</td>\n",
              "      <td>81.833</td>\n",
              "      <td>42.726</td>\n",
              "      <td>19.08</td>\n",
              "      <td>97.706</td>\n",
              "    </tr>\n",
              "    <tr>\n",
              "      <th>MI</th>\n",
              "      <td>1.067</td>\n",
              "      <td>1022</td>\n",
              "      <td>72.820</td>\n",
              "      <td>34.434</td>\n",
              "      <td>18.48</td>\n",
              "      <td>86.804</td>\n",
              "    </tr>\n",
              "    <tr>\n",
              "      <th>NY</th>\n",
              "      <td>0.846</td>\n",
              "      <td>1037</td>\n",
              "      <td>59.062</td>\n",
              "      <td>26.617</td>\n",
              "      <td>20.42</td>\n",
              "      <td>75.063</td>\n",
              "    </tr>\n",
              "    <tr>\n",
              "      <th>ID</th>\n",
              "      <td>1.491</td>\n",
              "      <td>660</td>\n",
              "      <td>66.160</td>\n",
              "      <td>28.139</td>\n",
              "      <td>17.07</td>\n",
              "      <td>71.431</td>\n",
              "    </tr>\n",
              "    <tr>\n",
              "      <th>GA</th>\n",
              "      <td>0.906</td>\n",
              "      <td>820</td>\n",
              "      <td>49.499</td>\n",
              "      <td>5.284</td>\n",
              "      <td>17.78</td>\n",
              "      <td>58.013</td>\n",
              "    </tr>\n",
              "    <tr>\n",
              "      <th>LA</th>\n",
              "      <td>0.565</td>\n",
              "      <td>1436</td>\n",
              "      <td>54.410</td>\n",
              "      <td>8.156</td>\n",
              "      <td>15.81</td>\n",
              "      <td>54.303</td>\n",
              "    </tr>\n",
              "    <tr>\n",
              "      <th>NE</th>\n",
              "      <td>0.695</td>\n",
              "      <td>1012</td>\n",
              "      <td>47.379</td>\n",
              "      <td>25.340</td>\n",
              "      <td>17.59</td>\n",
              "      <td>52.895</td>\n",
              "    </tr>\n",
              "    <tr>\n",
              "      <th>WA</th>\n",
              "      <td>0.835</td>\n",
              "      <td>732</td>\n",
              "      <td>40.316</td>\n",
              "      <td>16.653</td>\n",
              "      <td>18.72</td>\n",
              "      <td>49.787</td>\n",
              "    </tr>\n",
              "    <tr>\n",
              "      <th>WY</th>\n",
              "      <td>0.593</td>\n",
              "      <td>992</td>\n",
              "      <td>39.269</td>\n",
              "      <td>7.233</td>\n",
              "      <td>17.22</td>\n",
              "      <td>42.848</td>\n",
              "    </tr>\n",
              "    <tr>\n",
              "      <th>AR</th>\n",
              "      <td>0.552</td>\n",
              "      <td>1109</td>\n",
              "      <td>42.156</td>\n",
              "      <td>14.890</td>\n",
              "      <td>16.38</td>\n",
              "      <td>40.266</td>\n",
              "    </tr>\n",
              "    <tr>\n",
              "      <th>OR</th>\n",
              "      <td>0.729</td>\n",
              "      <td>666</td>\n",
              "      <td>31.821</td>\n",
              "      <td>16.183</td>\n",
              "      <td>18.79</td>\n",
              "      <td>39.349</td>\n",
              "    </tr>\n",
              "    <tr>\n",
              "      <th>IA</th>\n",
              "      <td>0.472</td>\n",
              "      <td>986</td>\n",
              "      <td>31.200</td>\n",
              "      <td>16.949</td>\n",
              "      <td>19.81</td>\n",
              "      <td>38.825</td>\n",
              "    </tr>\n",
              "    <tr>\n",
              "      <th>AZ</th>\n",
              "      <td>0.505</td>\n",
              "      <td>901</td>\n",
              "      <td>30.484</td>\n",
              "      <td>13.155</td>\n",
              "      <td>17.02</td>\n",
              "      <td>31.677</td>\n",
              "    </tr>\n",
              "    <tr>\n",
              "      <th>CO</th>\n",
              "      <td>0.420</td>\n",
              "      <td>942</td>\n",
              "      <td>26.259</td>\n",
              "      <td>12.229</td>\n",
              "      <td>18.44</td>\n",
              "      <td>31.354</td>\n",
              "    </tr>\n",
              "    <tr>\n",
              "      <th>PA</th>\n",
              "      <td>0.386</td>\n",
              "      <td>756</td>\n",
              "      <td>19.434</td>\n",
              "      <td>8.328</td>\n",
              "      <td>22.82</td>\n",
              "      <td>27.745</td>\n",
              "    </tr>\n",
              "    <tr>\n",
              "      <th>MS</th>\n",
              "      <td>0.252</td>\n",
              "      <td>1312</td>\n",
              "      <td>21.853</td>\n",
              "      <td>4.718</td>\n",
              "      <td>15.88</td>\n",
              "      <td>24.252</td>\n",
              "    </tr>\n",
              "    <tr>\n",
              "      <th>OH</th>\n",
              "      <td>0.242</td>\n",
              "      <td>953</td>\n",
              "      <td>15.601</td>\n",
              "      <td>6.500</td>\n",
              "      <td>23.86</td>\n",
              "      <td>23.282</td>\n",
              "    </tr>\n",
              "    <tr>\n",
              "      <th>HI</th>\n",
              "      <td>0.131</td>\n",
              "      <td>1470</td>\n",
              "      <td>12.647</td>\n",
              "      <td>2.553</td>\n",
              "      <td>25.65</td>\n",
              "      <td>21.063</td>\n",
              "    </tr>\n",
              "    <tr>\n",
              "      <th>UT</th>\n",
              "      <td>0.380</td>\n",
              "      <td>698</td>\n",
              "      <td>17.686</td>\n",
              "      <td>4.615</td>\n",
              "      <td>17.50</td>\n",
              "      <td>20.165</td>\n",
              "    </tr>\n",
              "    <tr>\n",
              "      <th>NC</th>\n",
              "      <td>0.171</td>\n",
              "      <td>717</td>\n",
              "      <td>8.141</td>\n",
              "      <td>1.898</td>\n",
              "      <td>31.11</td>\n",
              "      <td>17.158</td>\n",
              "    </tr>\n",
              "    <tr>\n",
              "      <th>IL</th>\n",
              "      <td>0.121</td>\n",
              "      <td>925</td>\n",
              "      <td>7.475</td>\n",
              "      <td>3.149</td>\n",
              "      <td>32.09</td>\n",
              "      <td>15.113</td>\n",
              "    </tr>\n",
              "    <tr>\n",
              "      <th>AL</th>\n",
              "      <td>0.179</td>\n",
              "      <td>1013</td>\n",
              "      <td>12.382</td>\n",
              "      <td>2.382</td>\n",
              "      <td>21.28</td>\n",
              "      <td>15.029</td>\n",
              "    </tr>\n",
              "    <tr>\n",
              "      <th>MO</th>\n",
              "      <td>0.235</td>\n",
              "      <td>801</td>\n",
              "      <td>13.073</td>\n",
              "      <td>3.049</td>\n",
              "      <td>20.67</td>\n",
              "      <td>14.768</td>\n",
              "    </tr>\n",
              "    <tr>\n",
              "      <th>KS</th>\n",
              "      <td>0.189</td>\n",
              "      <td>841</td>\n",
              "      <td>10.619</td>\n",
              "      <td>5.238</td>\n",
              "      <td>21.19</td>\n",
              "      <td>13.861</td>\n",
              "    </tr>\n",
              "    <tr>\n",
              "      <th>TN</th>\n",
              "      <td>0.108</td>\n",
              "      <td>845</td>\n",
              "      <td>6.116</td>\n",
              "      <td>1.468</td>\n",
              "      <td>28.41</td>\n",
              "      <td>11.399</td>\n",
              "    </tr>\n",
              "    <tr>\n",
              "      <th>NV</th>\n",
              "      <td>0.108</td>\n",
              "      <td>497</td>\n",
              "      <td>4.832</td>\n",
              "      <td>1.611</td>\n",
              "      <td>24.41</td>\n",
              "      <td>10.669</td>\n",
              "    </tr>\n",
              "    <tr>\n",
              "      <th>IN</th>\n",
              "      <td>0.119</td>\n",
              "      <td>914</td>\n",
              "      <td>7.260</td>\n",
              "      <td>3.039</td>\n",
              "      <td>22.89</td>\n",
              "      <td>10.358</td>\n",
              "    </tr>\n",
              "    <tr>\n",
              "      <th>NJ</th>\n",
              "      <td>0.164</td>\n",
              "      <td>554</td>\n",
              "      <td>5.993</td>\n",
              "      <td>1.722</td>\n",
              "      <td>22.64</td>\n",
              "      <td>9.105</td>\n",
              "    </tr>\n",
              "    <tr>\n",
              "      <th>VA</th>\n",
              "      <td>0.099</td>\n",
              "      <td>603</td>\n",
              "      <td>3.998</td>\n",
              "      <td>1.004</td>\n",
              "      <td>34.80</td>\n",
              "      <td>8.583</td>\n",
              "    </tr>\n",
              "    <tr>\n",
              "      <th>VT</th>\n",
              "      <td>0.085</td>\n",
              "      <td>1004</td>\n",
              "      <td>5.821</td>\n",
              "      <td>2.284</td>\n",
              "      <td>23.78</td>\n",
              "      <td>8.435</td>\n",
              "    </tr>\n",
              "    <tr>\n",
              "      <th>WV</th>\n",
              "      <td>0.098</td>\n",
              "      <td>728</td>\n",
              "      <td>4.818</td>\n",
              "      <td>2.006</td>\n",
              "      <td>27.52</td>\n",
              "      <td>8.289</td>\n",
              "    </tr>\n",
              "    <tr>\n",
              "      <th>NM</th>\n",
              "      <td>0.131</td>\n",
              "      <td>808</td>\n",
              "      <td>7.147</td>\n",
              "      <td>3.524</td>\n",
              "      <td>19.77</td>\n",
              "      <td>8.208</td>\n",
              "    </tr>\n",
              "    <tr>\n",
              "      <th>KY</th>\n",
              "      <td>0.066</td>\n",
              "      <td>782</td>\n",
              "      <td>3.445</td>\n",
              "      <td>0.704</td>\n",
              "      <td>31.24</td>\n",
              "      <td>7.199</td>\n",
              "    </tr>\n",
              "    <tr>\n",
              "      <th>ME</th>\n",
              "      <td>0.126</td>\n",
              "      <td>466</td>\n",
              "      <td>3.701</td>\n",
              "      <td>1.445</td>\n",
              "      <td>21.48</td>\n",
              "      <td>5.067</td>\n",
              "    </tr>\n",
              "    <tr>\n",
              "      <th>MD</th>\n",
              "      <td>0.028</td>\n",
              "      <td>270</td>\n",
              "      <td>1.266</td>\n",
              "      <td>0.291</td>\n",
              "      <td>9.37</td>\n",
              "      <td>1.833</td>\n",
              "    </tr>\n",
              "    <tr>\n",
              "      <th>OK</th>\n",
              "      <td>0.027</td>\n",
              "      <td>278</td>\n",
              "      <td>1.207</td>\n",
              "      <td>0.401</td>\n",
              "      <td>8.74</td>\n",
              "      <td>1.711</td>\n",
              "    </tr>\n",
              "    <tr>\n",
              "      <th>SC</th>\n",
              "      <td>0.016</td>\n",
              "      <td>204</td>\n",
              "      <td>1.030</td>\n",
              "      <td>0.089</td>\n",
              "      <td>3.93</td>\n",
              "      <td>1.338</td>\n",
              "    </tr>\n",
              "  </tbody>\n",
              "</table>\n",
              "</div>"
            ],
            "text/plain": [
              "       numcol  yieldpercol  totalprod   stocks  priceperlb  prodvalue\n",
              "state                                                                \n",
              "ND      5.555         1321    475.085  132.898       16.88    545.642\n",
              "CA      6.100          837    347.535   96.807       17.00    365.390\n",
              "SD      3.544         1137    266.141  131.494       17.10    290.651\n",
              "FL      2.928         1246    247.048   33.144       16.51    249.229\n",
              "MT      2.040         1160    156.562   47.950       17.26    176.903\n",
              "MN      1.934         1114    144.360   32.787       17.28    157.850\n",
              "TX      1.478         1058    104.904   20.520       16.72    111.438\n",
              "WI      1.022         1191     81.833   42.726       19.08     97.706\n",
              "MI      1.067         1022     72.820   34.434       18.48     86.804\n",
              "NY      0.846         1037     59.062   26.617       20.42     75.063\n",
              "ID      1.491          660     66.160   28.139       17.07     71.431\n",
              "GA      0.906          820     49.499    5.284       17.78     58.013\n",
              "LA      0.565         1436     54.410    8.156       15.81     54.303\n",
              "NE      0.695         1012     47.379   25.340       17.59     52.895\n",
              "WA      0.835          732     40.316   16.653       18.72     49.787\n",
              "WY      0.593          992     39.269    7.233       17.22     42.848\n",
              "AR      0.552         1109     42.156   14.890       16.38     40.266\n",
              "OR      0.729          666     31.821   16.183       18.79     39.349\n",
              "IA      0.472          986     31.200   16.949       19.81     38.825\n",
              "AZ      0.505          901     30.484   13.155       17.02     31.677\n",
              "CO      0.420          942     26.259   12.229       18.44     31.354\n",
              "PA      0.386          756     19.434    8.328       22.82     27.745\n",
              "MS      0.252         1312     21.853    4.718       15.88     24.252\n",
              "OH      0.242          953     15.601    6.500       23.86     23.282\n",
              "HI      0.131         1470     12.647    2.553       25.65     21.063\n",
              "UT      0.380          698     17.686    4.615       17.50     20.165\n",
              "NC      0.171          717      8.141    1.898       31.11     17.158\n",
              "IL      0.121          925      7.475    3.149       32.09     15.113\n",
              "AL      0.179         1013     12.382    2.382       21.28     15.029\n",
              "MO      0.235          801     13.073    3.049       20.67     14.768\n",
              "KS      0.189          841     10.619    5.238       21.19     13.861\n",
              "TN      0.108          845      6.116    1.468       28.41     11.399\n",
              "NV      0.108          497      4.832    1.611       24.41     10.669\n",
              "IN      0.119          914      7.260    3.039       22.89     10.358\n",
              "NJ      0.164          554      5.993    1.722       22.64      9.105\n",
              "VA      0.099          603      3.998    1.004       34.80      8.583\n",
              "VT      0.085         1004      5.821    2.284       23.78      8.435\n",
              "WV      0.098          728      4.818    2.006       27.52      8.289\n",
              "NM      0.131          808      7.147    3.524       19.77      8.208\n",
              "KY      0.066          782      3.445    0.704       31.24      7.199\n",
              "ME      0.126          466      3.701    1.445       21.48      5.067\n",
              "MD      0.028          270      1.266    0.291        9.37      1.833\n",
              "OK      0.027          278      1.207    0.401        8.74      1.711\n",
              "SC      0.016          204      1.030    0.089        3.93      1.338"
            ]
          },
          "metadata": {
            "tags": []
          },
          "execution_count": 109
        }
      ]
    },
    {
      "cell_type": "code",
      "metadata": {
        "colab": {
          "base_uri": "https://localhost:8080/"
        },
        "id": "svu_u8O2rCQw",
        "outputId": "743e6c44-a516-48f8-f843-8776c10a4276"
      },
      "source": [
        "x_state = np.array(dataset_state_sort.index)\n",
        "y_state = np.array(dataset_state_sort['prodvalue'])\n",
        "print(x_state)\n",
        "print()\n",
        "print(y_state)"
      ],
      "execution_count": null,
      "outputs": [
        {
          "output_type": "stream",
          "text": [
            "['ND' 'CA' 'SD' 'FL' 'MT' 'MN' 'TX' 'WI' 'MI' 'NY' 'ID' 'GA' 'LA' 'NE'\n",
            " 'WA' 'WY' 'AR' 'OR' 'IA' 'AZ' 'CO' 'PA' 'MS' 'OH' 'HI' 'UT' 'NC' 'IL'\n",
            " 'AL' 'MO' 'KS' 'TN' 'NV' 'IN' 'NJ' 'VA' 'VT' 'WV' 'NM' 'KY' 'ME' 'MD'\n",
            " 'OK' 'SC']\n",
            "\n",
            "[545.642 365.39  290.651 249.229 176.903 157.85  111.438  97.706  86.804\n",
            "  75.063  71.431  58.013  54.303  52.895  49.787  42.848  40.266  39.349\n",
            "  38.825  31.677  31.354  27.745  24.252  23.282  21.063  20.165  17.158\n",
            "  15.113  15.029  14.768  13.861  11.399  10.669  10.358   9.105   8.583\n",
            "   8.435   8.289   8.208   7.199   5.067   1.833   1.711   1.338]\n"
          ],
          "name": "stdout"
        }
      ]
    },
    {
      "cell_type": "markdown",
      "metadata": {
        "id": "OtTxiSnzs-ee"
      },
      "source": [
        "นำแกน x และ y นำไป plot กราฟใน matplotlib"
      ]
    },
    {
      "cell_type": "code",
      "metadata": {
        "colab": {
          "base_uri": "https://localhost:8080/",
          "height": 554
        },
        "id": "91BZq1xDtC7Q",
        "outputId": "86558b74-100a-4283-fdea-279933d2bf18"
      },
      "source": [
        "plt.style.use('ggplot')\n",
        "plt.rcParams['figure.figsize'] = [15,10]\n",
        "\n",
        "x_pos = [i for i, _ in enumerate(x_state)]\n",
        "\n",
        "plt.bar(x_pos, y_state, color='green')\n",
        "plt.xlabel(\"state\")\n",
        "plt.ylabel(\"product value (millon dollars)\")\n",
        "plt.title(\"Honey product value in the USA (1998-2012)\")\n",
        "\n",
        "plt.xticks(x_pos, x_state)\n",
        "plt.show()"
      ],
      "execution_count": null,
      "outputs": [
        {
          "output_type": "display_data",
          "data": {
            "image/png": "[encoded data removed]",
            "text/plain": [
              "<Figure size 1500x1000 with 1 Axes>"
            ]
          },
          "metadata": {
            "tags": []
          }
        }
      ]
    },
    {
      "cell_type": "markdown",
      "metadata": {
        "id": "9nHMaufytruw"
      },
      "source": [
        "จากกราฟนี้พบว่า รัฐ North Dakota มีราคาน้ำผึ้งรวมมากที่สุดอยู่ที่ 545.642 ล้านดอลลาร์ รองลงมาเป็นรัฐ California มีมูลค่า 365.39 ล้านดอลลาร์ สุดท้ายรัฐที่มูลค่าน้ำผึ้งน้อยที่สุดคือ รัฐ South Carolina มีมูลค่า 1.338 ล้านดอลลาร์"
      ]
    },
    {
      "cell_type": "markdown",
      "source": [
        "# สรุป"
      ],
      "metadata": {
        "id": "ZpxNAasepHNG"
      }
    },
    {
      "cell_type": "markdown",
      "source": [
        "การผลิตน้ำผึ้ง ในช่วงปี 1998-2000 มีการผลิตน้ำผึ้งได้สูงกว่า 200 ล้านปอนด์ โดยในปี 2000 มีการผลิตน้ำผึ้งมากที่สุดโดยผลิตได้ถึง 219 ล้านปอนด์ หลังจากนั้นช่วงปี 2001-2005 มีการผลิตน้ำผึ้งได้ต่ำลงมาอยู่ในช่วงประมาณ 171-186 ล้านปอนด์ ซึ่งลดลงมาประมาณ 40 ล้านปอนด์ ในช่วงปี 2006-2007 ที่เกิด CCP ขึ้นนั้นมีการผลิตน้ำผึ้งได้ต่ำเพียง 154 และ 147 ล้านปอนด์ โดยลดลงจากปี 2000 ค่อนข้างมาก หลังจากเหตุการณ์ CCP ส่งผลให้การผลิตชะงัก โดยปี 2008-2012 นั้นมีการผลิตน้ำผึ้งเฉลี่ยเพียงแค่ 154 ล้านปอนด์ เท่านั้น โดยส่วนใหญ่จะผลิตได้ไม่เกิน150 ล้านปอนด์ แต่จะมีปี 2008 และ 2010 ที่ผลิตได้มากถึง 163 และ 175 ล้านปอนด์"
      ],
      "metadata": {
        "id": "Ec9WZLldpJcX"
      }
    },
    {
      "cell_type": "markdown",
      "source": [
        "อัตราการเพิ่มขึ้นของราคาน้ำผึ้งต่อปอนด์  ในช่วงปี 1998-2001 นั้นราคาน้ำผึ้งเฉลี่ยเพียงแค่ 36 ดอลลาร์เท่านั้น ในปี 2002-2005 ราคาน้ำผึ้งมีราคา 49-65 ดอลลาร์ ซึ่งปีที่เกิด CCP (2006-2007) นั้นราคาของน้ำผึ้งเฉลี่ยอยู่ที่ 56 ดอลลาร์ แต่ในภายหลังเหตุการณ์ CCP ในช่วงปี 2008-2012 นั้นราคาของน้ำผึ้งก็พุ่งสูงขึ้นเรื่อยๆ ถึง 94 ดอลลาร์"
      ],
      "metadata": {
        "id": "X855rpUwpLpW"
      }
    },
    {
      "cell_type": "markdown",
      "source": [
        "ดังนั้นในช่วงปี 1998-2000 มีการผลิตน้ำผึ้งสูงจึงมีราคาน้ำผึ้งที่ต่ำ จากนั้นในช่วงปี 2001-2005 มีการผลิตน้ำผึ้งที่ต่ำลง จึงทำให้ราคาน้ำผึ้งสูงขึ้นประมาณ 1.5 เท่าจากช่วงปี 1998-2000 แต่เมื่อมีเหตุการณ์ CCP ทำให้ตั้งแต่ปี 2006-2012 มีการผลิตน้ำผึ้งที่ต่ำลงมากทำให้ราคาสูงขึ้น ถึง 2 เท่าโดยประมาณจากช่วงปี 1998-2000 อีกทั้งการผลิตน้ำผึ้งที่น้อยลงอาจทำให้ต้องนำเข้าน้ำผึ้งจากต่างประเทศ ส่งผลให้ราคาน้ำผึ้งสูงขึ้น"
      ],
      "metadata": {
        "id": "9EQkT3ujpMD2"
      }
    },
    {
      "cell_type": "markdown",
      "source": [
        "# แหล่งอ้างอิง\n",
        "\n"
      ],
      "metadata": {
        "id": "sVPP8swuo162"
      }
    },
    {
      "cell_type": "markdown",
      "source": [
        "*   https://www.kaggle.com/jessicali9530/honey-production"
      ],
      "metadata": {
        "id": "b0mFAKOipcsP"
      }
    }
  ]
}